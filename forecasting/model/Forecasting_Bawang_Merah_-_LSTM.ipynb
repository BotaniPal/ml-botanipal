{
 "cells": [
  {
   "cell_type": "code",
   "execution_count": 1,
   "metadata": {},
   "outputs": [],
   "source": [
    "import tensorflow as tf\n",
    "import pandas as pd\n",
    "import numpy as np\n",
    "from sklearn.preprocessing import MinMaxScaler\n",
    "from tensorflow.keras.models import Sequential\n",
    "from tensorflow.keras.layers import LSTM, Dense, Bidirectional\n",
    "import matplotlib.pyplot as plt\n",
    "from sklearn.metrics import mean_absolute_percentage_error\n",
    "from keras.models import load_model\n",
    "from datetime import datetime\n"
   ]
  },
  {
   "cell_type": "code",
   "execution_count": 3,
   "metadata": {},
   "outputs": [
    {
     "name": "stdout",
     "output_type": "stream",
     "text": [
      "c:\\Users\\dprih\\OneDrive\\Dokumen\\ITS\\ITS Semester 6\\Capstone-Bangkit-ML\\forecasting\\model\n"
     ]
    }
   ],
   "source": [
    "import os\n",
    "print(os.getcwd())\n"
   ]
  },
  {
   "cell_type": "code",
   "execution_count": 24,
   "metadata": {},
   "outputs": [
    {
     "data": {
      "text/html": [
       "<div>\n",
       "<style scoped>\n",
       "    .dataframe tbody tr th:only-of-type {\n",
       "        vertical-align: middle;\n",
       "    }\n",
       "\n",
       "    .dataframe tbody tr th {\n",
       "        vertical-align: top;\n",
       "    }\n",
       "\n",
       "    .dataframe thead th {\n",
       "        text-align: right;\n",
       "    }\n",
       "</style>\n",
       "<table border=\"1\" class=\"dataframe\">\n",
       "  <thead>\n",
       "    <tr style=\"text-align: right;\">\n",
       "      <th></th>\n",
       "      <th>no</th>\n",
       "      <th>hrg</th>\n",
       "    </tr>\n",
       "    <tr>\n",
       "      <th>tanggal</th>\n",
       "      <th></th>\n",
       "      <th></th>\n",
       "    </tr>\n",
       "  </thead>\n",
       "  <tbody>\n",
       "    <tr>\n",
       "      <th>2023-01-01</th>\n",
       "      <td>0</td>\n",
       "      <td>31497.447368</td>\n",
       "    </tr>\n",
       "    <tr>\n",
       "      <th>2023-01-02</th>\n",
       "      <td>1</td>\n",
       "      <td>31321.578947</td>\n",
       "    </tr>\n",
       "    <tr>\n",
       "      <th>2023-01-03</th>\n",
       "      <td>2</td>\n",
       "      <td>31469.868421</td>\n",
       "    </tr>\n",
       "    <tr>\n",
       "      <th>2023-01-04</th>\n",
       "      <td>3</td>\n",
       "      <td>31473.815789</td>\n",
       "    </tr>\n",
       "    <tr>\n",
       "      <th>2023-01-05</th>\n",
       "      <td>4</td>\n",
       "      <td>31519.789474</td>\n",
       "    </tr>\n",
       "    <tr>\n",
       "      <th>...</th>\n",
       "      <td>...</td>\n",
       "      <td>...</td>\n",
       "    </tr>\n",
       "    <tr>\n",
       "      <th>2024-06-11</th>\n",
       "      <td>529</td>\n",
       "      <td>36350.052632</td>\n",
       "    </tr>\n",
       "    <tr>\n",
       "      <th>2024-06-12</th>\n",
       "      <td>530</td>\n",
       "      <td>36373.315789</td>\n",
       "    </tr>\n",
       "    <tr>\n",
       "      <th>2024-06-13</th>\n",
       "      <td>531</td>\n",
       "      <td>36038.473684</td>\n",
       "    </tr>\n",
       "    <tr>\n",
       "      <th>2024-06-14</th>\n",
       "      <td>532</td>\n",
       "      <td>36172.421053</td>\n",
       "    </tr>\n",
       "    <tr>\n",
       "      <th>2024-06-15</th>\n",
       "      <td>533</td>\n",
       "      <td>26600.763158</td>\n",
       "    </tr>\n",
       "  </tbody>\n",
       "</table>\n",
       "<p>533 rows × 2 columns</p>\n",
       "</div>"
      ],
      "text/plain": [
       "             no           hrg\n",
       "tanggal                      \n",
       "2023-01-01    0  31497.447368\n",
       "2023-01-02    1  31321.578947\n",
       "2023-01-03    2  31469.868421\n",
       "2023-01-04    3  31473.815789\n",
       "2023-01-05    4  31519.789474\n",
       "...         ...           ...\n",
       "2024-06-11  529  36350.052632\n",
       "2024-06-12  530  36373.315789\n",
       "2024-06-13  531  36038.473684\n",
       "2024-06-14  532  36172.421053\n",
       "2024-06-15  533  26600.763158\n",
       "\n",
       "[533 rows x 2 columns]"
      ]
     },
     "execution_count": 24,
     "metadata": {},
     "output_type": "execute_result"
    }
   ],
   "source": [
    "# Memuat data\n",
    "data = pd.read_csv(\"C:\\\\Users\\\\dprih\\\\OneDrive\\\\Dokumen\\\\ITS\\\\ITS Semester 6\\\\Capstone-Bangkit-ML\\\\scrap-data-new\\\\new-scrap-mean\\\\bawang_merah_mean.csv\")\n",
    "data['tanggal'] = pd.to_datetime(data['tanggal'])\n",
    "data.set_index('tanggal', inplace=True)\n",
    "data"
   ]
  },
  {
   "cell_type": "code",
   "execution_count": 25,
   "metadata": {},
   "outputs": [
    {
     "data": {
      "text/html": [
       "<div>\n",
       "<style scoped>\n",
       "    .dataframe tbody tr th:only-of-type {\n",
       "        vertical-align: middle;\n",
       "    }\n",
       "\n",
       "    .dataframe tbody tr th {\n",
       "        vertical-align: top;\n",
       "    }\n",
       "\n",
       "    .dataframe thead th {\n",
       "        text-align: right;\n",
       "    }\n",
       "</style>\n",
       "<table border=\"1\" class=\"dataframe\">\n",
       "  <thead>\n",
       "    <tr style=\"text-align: right;\">\n",
       "      <th></th>\n",
       "      <th>hrg</th>\n",
       "    </tr>\n",
       "    <tr>\n",
       "      <th>tanggal</th>\n",
       "      <th></th>\n",
       "    </tr>\n",
       "  </thead>\n",
       "  <tbody>\n",
       "    <tr>\n",
       "      <th>2023-01-01</th>\n",
       "      <td>31497.447368</td>\n",
       "    </tr>\n",
       "    <tr>\n",
       "      <th>2023-01-02</th>\n",
       "      <td>31321.578947</td>\n",
       "    </tr>\n",
       "    <tr>\n",
       "      <th>2023-01-03</th>\n",
       "      <td>31469.868421</td>\n",
       "    </tr>\n",
       "    <tr>\n",
       "      <th>2023-01-04</th>\n",
       "      <td>31473.815789</td>\n",
       "    </tr>\n",
       "    <tr>\n",
       "      <th>2023-01-05</th>\n",
       "      <td>31519.789474</td>\n",
       "    </tr>\n",
       "    <tr>\n",
       "      <th>...</th>\n",
       "      <td>...</td>\n",
       "    </tr>\n",
       "    <tr>\n",
       "      <th>2024-06-11</th>\n",
       "      <td>36350.052632</td>\n",
       "    </tr>\n",
       "    <tr>\n",
       "      <th>2024-06-12</th>\n",
       "      <td>36373.315789</td>\n",
       "    </tr>\n",
       "    <tr>\n",
       "      <th>2024-06-13</th>\n",
       "      <td>36038.473684</td>\n",
       "    </tr>\n",
       "    <tr>\n",
       "      <th>2024-06-14</th>\n",
       "      <td>36172.421053</td>\n",
       "    </tr>\n",
       "    <tr>\n",
       "      <th>2024-06-15</th>\n",
       "      <td>26600.763158</td>\n",
       "    </tr>\n",
       "  </tbody>\n",
       "</table>\n",
       "<p>533 rows × 1 columns</p>\n",
       "</div>"
      ],
      "text/plain": [
       "                     hrg\n",
       "tanggal                 \n",
       "2023-01-01  31497.447368\n",
       "2023-01-02  31321.578947\n",
       "2023-01-03  31469.868421\n",
       "2023-01-04  31473.815789\n",
       "2023-01-05  31519.789474\n",
       "...                  ...\n",
       "2024-06-11  36350.052632\n",
       "2024-06-12  36373.315789\n",
       "2024-06-13  36038.473684\n",
       "2024-06-14  36172.421053\n",
       "2024-06-15  26600.763158\n",
       "\n",
       "[533 rows x 1 columns]"
      ]
     },
     "execution_count": 25,
     "metadata": {},
     "output_type": "execute_result"
    }
   ],
   "source": [
    "#Drop the no \n",
    "data = data.drop(columns=['no'])\n",
    "data"
   ]
  },
  {
   "cell_type": "code",
   "execution_count": 26,
   "metadata": {},
   "outputs": [],
   "source": [
    "# Menormalisasi data harga\n",
    "scaler = MinMaxScaler(feature_range=(0, 1))\n",
    "data['hrg'] = scaler.fit_transform(data['hrg'].values.reshape(-1,1))"
   ]
  },
  {
   "cell_type": "code",
   "execution_count": 27,
   "metadata": {},
   "outputs": [],
   "source": [
    "# Membuat dataset untuk LSTM\n",
    "def create_dataset(dataset, time_step=1):\n",
    "    dataX, dataY = [], []\n",
    "    for i in range(len(dataset)-time_step-1):\n",
    "        a = dataset[i:(i+time_step), 0]\n",
    "        dataX.append(a)\n",
    "        dataY.append(dataset[i + time_step, 0])\n",
    "    return np.array(dataX), np.array(dataY)"
   ]
  },
  {
   "cell_type": "code",
   "execution_count": 28,
   "metadata": {},
   "outputs": [],
   "source": [
    "# Parameter\n",
    "time_step = 10"
   ]
  },
  {
   "cell_type": "code",
   "execution_count": 29,
   "metadata": {},
   "outputs": [],
   "source": [
    "# Membagi data menjadi train dan test\n",
    "train_size = int(len(data) * 0.8)\n",
    "test_size = len(data) - train_size\n",
    "train, test = data[0:train_size], data[train_size:len(data)]"
   ]
  },
  {
   "cell_type": "code",
   "execution_count": 30,
   "metadata": {},
   "outputs": [],
   "source": [
    "# Membuat dataset untuk train dan test\n",
    "trainX, trainY = create_dataset(train.values, time_step)\n",
    "testX, testY = create_dataset(test.values, time_step)"
   ]
  },
  {
   "cell_type": "code",
   "execution_count": 31,
   "metadata": {},
   "outputs": [],
   "source": [
    "# Mengubah input menjadi [samples, time steps, features]\n",
    "trainX = trainX.reshape(trainX.shape[0], trainX.shape[1], 1)\n",
    "testX = testX.reshape(testX.shape[0], testX.shape[1], 1)"
   ]
  },
  {
   "cell_type": "code",
   "execution_count": 32,
   "metadata": {},
   "outputs": [
    {
     "name": "stdout",
     "output_type": "stream",
     "text": [
      "Model: \"sequential\"\n",
      "_________________________________________________________________\n",
      " Layer (type)                Output Shape              Param #   \n",
      "=================================================================\n",
      " lstm (LSTM)                 (None, 10, 50)            10400     \n",
      "                                                                 \n",
      " lstm_1 (LSTM)               (None, 50)                20200     \n",
      "                                                                 \n",
      " dense (Dense)               (None, 25)                1275      \n",
      "                                                                 \n",
      " dense_1 (Dense)             (None, 1)                 26        \n",
      "                                                                 \n",
      "=================================================================\n",
      "Total params: 31,901\n",
      "Trainable params: 31,901\n",
      "Non-trainable params: 0\n",
      "_________________________________________________________________\n"
     ]
    }
   ],
   "source": [
    "# Membangun model LSTM\n",
    "model = Sequential()\n",
    "model.add(LSTM(50, return_sequences=True, input_shape=(time_step, 1)))\n",
    "model.add(LSTM(50, return_sequences=False))\n",
    "model.add(Dense(25))\n",
    "model.add(Dense(1))\n",
    "\n",
    "# Menampilkan ringkasan model\n",
    "model.summary()"
   ]
  },
  {
   "cell_type": "code",
   "execution_count": 33,
   "metadata": {},
   "outputs": [
    {
     "name": "stdout",
     "output_type": "stream",
     "text": [
      "Epoch 1/20\n",
      "415/415 [==============================] - 4s 5ms/step - loss: 0.0046\n",
      "Epoch 2/20\n",
      "415/415 [==============================] - 2s 6ms/step - loss: 0.0013\n",
      "Epoch 3/20\n",
      "415/415 [==============================] - 3s 6ms/step - loss: 0.0013\n",
      "Epoch 4/20\n",
      "415/415 [==============================] - 3s 6ms/step - loss: 0.0011\n",
      "Epoch 5/20\n",
      "415/415 [==============================] - 2s 6ms/step - loss: 0.0013\n",
      "Epoch 6/20\n",
      "415/415 [==============================] - 2s 6ms/step - loss: 0.0012\n",
      "Epoch 7/20\n",
      "415/415 [==============================] - 2s 6ms/step - loss: 0.0012\n",
      "Epoch 8/20\n",
      "415/415 [==============================] - 3s 6ms/step - loss: 0.0011\n",
      "Epoch 9/20\n",
      "415/415 [==============================] - 3s 6ms/step - loss: 0.0010\n",
      "Epoch 10/20\n",
      "415/415 [==============================] - 2s 6ms/step - loss: 0.0011\n",
      "Epoch 11/20\n",
      "415/415 [==============================] - 3s 6ms/step - loss: 0.0011\n",
      "Epoch 12/20\n",
      "415/415 [==============================] - 3s 6ms/step - loss: 9.2278e-04\n",
      "Epoch 13/20\n",
      "415/415 [==============================] - 2s 6ms/step - loss: 9.1441e-04\n",
      "Epoch 14/20\n",
      "415/415 [==============================] - 2s 6ms/step - loss: 9.8264e-04\n",
      "Epoch 15/20\n",
      "415/415 [==============================] - 2s 6ms/step - loss: 8.6049e-04\n",
      "Epoch 16/20\n",
      "415/415 [==============================] - 2s 6ms/step - loss: 8.4596e-04\n",
      "Epoch 17/20\n",
      "415/415 [==============================] - 2s 6ms/step - loss: 8.4823e-04\n",
      "Epoch 18/20\n",
      "415/415 [==============================] - 3s 6ms/step - loss: 8.5491e-04\n",
      "Epoch 19/20\n",
      "415/415 [==============================] - 2s 6ms/step - loss: 7.5149e-04\n",
      "Epoch 20/20\n",
      "415/415 [==============================] - 3s 6ms/step - loss: 8.8556e-04\n"
     ]
    },
    {
     "data": {
      "text/plain": [
       "<keras.callbacks.History at 0x15cace08100>"
      ]
     },
     "execution_count": 33,
     "metadata": {},
     "output_type": "execute_result"
    }
   ],
   "source": [
    "# Compile model\n",
    "model.compile(optimizer=tf.keras.optimizers.SGD(momentum=0.9), loss=tf.keras.losses.Huber())\n",
    "\n",
    "# Melatih model\n",
    "model.fit(trainX, trainY, batch_size=1, epochs=20)"
   ]
  },
  {
   "cell_type": "code",
   "execution_count": 34,
   "metadata": {},
   "outputs": [
    {
     "name": "stdout",
     "output_type": "stream",
     "text": [
      "13/13 [==============================] - 0s 2ms/step\n",
      "3/3 [==============================] - 0s 3ms/step\n"
     ]
    }
   ],
   "source": [
    "# Melakukan prediksi\n",
    "train_predict = model.predict(trainX)\n",
    "test_predict = model.predict(testX)"
   ]
  },
  {
   "cell_type": "code",
   "execution_count": 35,
   "metadata": {},
   "outputs": [],
   "source": [
    "# Mengembalikan harga ke skala semula\n",
    "train_predict = scaler.inverse_transform(train_predict)\n",
    "test_predict = scaler.inverse_transform(test_predict)\n",
    "trainY = scaler.inverse_transform(trainY.reshape(-1, 1))\n",
    "testY = scaler.inverse_transform(testY.reshape(-1, 1))"
   ]
  },
  {
   "cell_type": "code",
   "execution_count": 36,
   "metadata": {},
   "outputs": [
    {
     "name": "stdout",
     "output_type": "stream",
     "text": [
      "MAPE Train: 3.5898535414677504%\n",
      "MAPE Test: 5.571353527388032%\n"
     ]
    }
   ],
   "source": [
    "# Menghitung MAPE untuk train dan test\n",
    "mape_train = mean_absolute_percentage_error(trainY, train_predict) * 100\n",
    "mape_test = mean_absolute_percentage_error(testY, test_predict) * 100\n",
    "\n",
    "print(f\"MAPE Train: {mape_train}%\")\n",
    "print(f\"MAPE Test: {mape_test}%\")"
   ]
  },
  {
   "cell_type": "code",
   "execution_count": 37,
   "metadata": {},
   "outputs": [
    {
     "name": "stdout",
     "output_type": "stream",
     "text": [
      "Hasil Prediksi Train:\n",
      "              harga_asli  harga_prediksi\n",
      "tanggal                                 \n",
      "2023-01-11  32164.342105    30891.333984\n",
      "2023-01-12  32258.552632    30984.638672\n",
      "2023-01-13  32313.868421    31073.681641\n",
      "2023-01-14  32218.710526    31155.193359\n",
      "2023-01-15  32216.052632    31212.138672\n",
      "Hasil Prediksi Test:\n",
      "              harga_asli  harga_prediksi\n",
      "tanggal                                 \n",
      "2024-03-12  27504.157895    26439.738281\n",
      "2024-03-13  27531.789474    26502.466797\n",
      "2024-03-14  27516.078947    26560.332031\n",
      "2024-03-15  27684.736842    26609.855469\n",
      "2024-03-16  27695.052632    26666.560547\n"
     ]
    }
   ],
   "source": [
    "\n",
    "# Membuat dataframe untuk hasil prediksi train\n",
    "train_predict_df = pd.DataFrame({\n",
    "    'tanggal': data.index[time_step:len(train_predict) + time_step],\n",
    "    'harga_asli': trainY.flatten(),\n",
    "    'harga_prediksi': train_predict.flatten()\n",
    "})\n",
    "train_predict_df.set_index('tanggal', inplace=True)\n",
    "\n",
    "# Membuat dataframe untuk hasil prediksi test\n",
    "test_predict_df = pd.DataFrame({\n",
    "    'tanggal': data.index[len(train_predict) + (time_step * 2) + 1:len(data) - 1],\n",
    "    'harga_asli': testY.flatten(),\n",
    "    'harga_prediksi': test_predict.flatten()\n",
    "})\n",
    "test_predict_df.set_index('tanggal', inplace=True)\n",
    "\n",
    "# Menampilkan hasil prediksi train\n",
    "print(\"Hasil Prediksi Train:\")\n",
    "print(train_predict_df.head())\n",
    "\n",
    "# Menampilkan hasil prediksi test\n",
    "print(\"Hasil Prediksi Test:\")\n",
    "print(test_predict_df.head())"
   ]
  },
  {
   "cell_type": "code",
   "execution_count": 38,
   "metadata": {},
   "outputs": [
    {
     "name": "stdout",
     "output_type": "stream",
     "text": [
      "1/1 [==============================] - 0s 18ms/step\n",
      "1/1 [==============================] - 0s 21ms/step\n",
      "1/1 [==============================] - 0s 21ms/step\n",
      "1/1 [==============================] - 0s 14ms/step\n",
      "1/1 [==============================] - 0s 17ms/step\n",
      "1/1 [==============================] - 0s 16ms/step\n",
      "1/1 [==============================] - 0s 16ms/step\n",
      "1/1 [==============================] - 0s 16ms/step\n",
      "1/1 [==============================] - 0s 16ms/step\n",
      "1/1 [==============================] - 0s 14ms/step\n",
      "1/1 [==============================] - 0s 16ms/step\n",
      "1/1 [==============================] - 0s 16ms/step\n",
      "1/1 [==============================] - 0s 16ms/step\n",
      "1/1 [==============================] - 0s 16ms/step\n",
      "1/1 [==============================] - 0s 14ms/step\n",
      "1/1 [==============================] - 0s 14ms/step\n",
      "1/1 [==============================] - 0s 16ms/step\n",
      "1/1 [==============================] - 0s 15ms/step\n",
      "1/1 [==============================] - 0s 15ms/step\n",
      "1/1 [==============================] - 0s 17ms/step\n",
      "1/1 [==============================] - 0s 16ms/step\n",
      "1/1 [==============================] - 0s 16ms/step\n",
      "1/1 [==============================] - 0s 17ms/step\n",
      "1/1 [==============================] - 0s 17ms/step\n",
      "1/1 [==============================] - 0s 15ms/step\n",
      "1/1 [==============================] - 0s 15ms/step\n",
      "1/1 [==============================] - 0s 15ms/step\n",
      "1/1 [==============================] - 0s 15ms/step\n",
      "1/1 [==============================] - 0s 17ms/step\n",
      "1/1 [==============================] - 0s 16ms/step\n",
      "Hasil Prediksi Masa Depan:\n",
      "            harga_prediksi\n",
      "tanggal                   \n",
      "2024-06-16    34349.367188\n",
      "2024-06-17    33621.464844\n",
      "2024-06-18    33126.195312\n",
      "2024-06-19    32750.746094\n",
      "2024-06-20    32438.421875\n"
     ]
    }
   ],
   "source": [
    "# Prediksi harga masa depan\n",
    "future_steps = 30  # jumlah langkah ke depan yang ingin diprediksi\n",
    "last_sequence = data.values[-time_step:]  # ambil urutan terakhir dari data\n",
    "\n",
    "future_predictions = []\n",
    "\n",
    "for _ in range(future_steps):\n",
    "    # Ubah bentuk input menjadi [samples, time steps, features]\n",
    "    input_sequence = last_sequence.reshape((1, time_step, 1))\n",
    "    next_prediction = model.predict(input_sequence)\n",
    "    future_predictions.append(next_prediction[0, 0])\n",
    "    \n",
    "    # Perbarui urutan terakhir dengan menggeser ke kiri dan menambahkan prediksi terbaru\n",
    "    last_sequence = np.append(last_sequence[1:], next_prediction)[-time_step:]\n",
    "\n",
    "# Mengembalikan harga ke skala semula untuk prediksi masa depan\n",
    "future_predictions = scaler.inverse_transform(np.array(future_predictions).reshape(-1, 1))\n",
    "\n",
    "# Membuat tanggal untuk prediksi masa depan\n",
    "last_date = data.index[-1]\n",
    "future_dates = pd.date_range(start=last_date, periods=future_steps + 1, inclusive='right')\n",
    "\n",
    "# Membuat dataframe untuk hasil prediksi masa depan\n",
    "future_predict_df = pd.DataFrame({\n",
    "    'tanggal': future_dates,\n",
    "    'harga_prediksi': future_predictions.flatten()\n",
    "})\n",
    "future_predict_df.set_index('tanggal', inplace=True)\n",
    "\n",
    "# Menampilkan hasil prediksi masa depan\n",
    "print(\"Hasil Prediksi Masa Depan:\")\n",
    "print(future_predict_df.head())"
   ]
  },
  {
   "cell_type": "code",
   "execution_count": 39,
   "metadata": {},
   "outputs": [
    {
     "data": {
      "image/png": "[encoded data removed]",
      "text/plain": [
       "<Figure size 1600x800 with 1 Axes>"
      ]
     },
     "metadata": {},
     "output_type": "display_data"
    }
   ],
   "source": [
    "# Visualisasi hasil\n",
    "plt.figure(figsize=(16,8))\n",
    "plt.plot(data.index, scaler.inverse_transform(data['hrg'].values.reshape(-1, 1)), label='Harga Asli')\n",
    "plt.plot(data.index[time_step:len(train_predict) + time_step], train_predict, label='Prediksi Train')\n",
    "plt.plot(data.index[len(train_predict) + (time_step * 2) + 1:len(data) - 1], test_predict, label='Prediksi Test')\n",
    "plt.plot(future_predict_df.index, future_predict_df['harga_prediksi'], label='Prediksi Masa Depan')\n",
    "plt.xlabel('Tanggal')\n",
    "plt.ylabel('Harga')\n",
    "plt.legend()\n",
    "plt.show()"
   ]
  },
  {
   "cell_type": "markdown",
   "metadata": {},
   "source": [
    "## Saving the Model in Different Formats:\n",
    "- Pickle"
   ]
  },
  {
   "cell_type": "code",
   "execution_count": null,
   "metadata": {},
   "outputs": [],
   "source": [
    "import pickle\n",
    "\n",
    "# Save the model using Pickle\n",
    "with open('bawang_merah_forecasting.pkl', 'wb') as file:\n",
    "    pickle.dump(model, file)\n",
    "\n",
    "# Load the model using Pickle\n",
    "with open('bawang_merah_forecasting.pkl', 'rb') as file:\n",
    "    loaded_model_pickle = pickle.load(file)"
   ]
  },
  {
   "cell_type": "markdown",
   "metadata": {},
   "source": [
    "- H5"
   ]
  },
  {
   "cell_type": "code",
   "execution_count": 40,
   "metadata": {},
   "outputs": [],
   "source": [
    "# Save the model using H5 format\n",
    "model.save('bawang_merah_forecasting.h5')\n",
    "\n",
    "# Load the model using H5 format\n",
    "from tensorflow.keras.models import load_model\n",
    "loaded_model_h5 = load_model('bawang_merah_forecasting.h5')"
   ]
  },
  {
   "cell_type": "markdown",
   "metadata": {},
   "source": [
    "- Tensorflow Saved Model"
   ]
  },
  {
   "cell_type": "code",
   "execution_count": null,
   "metadata": {},
   "outputs": [],
   "source": [
    "# Save the model using TensorFlow SavedModel format\n",
    "model.save('saved_model/bawang_merah_forecasting')\n",
    "\n",
    "# Load the model using TensorFlow SavedModel format\n",
    "loaded_model_saved = tf.keras.models.load_model('saved_model/bawang_merah_forecasting')"
   ]
  },
  {
   "cell_type": "markdown",
   "metadata": {},
   "source": [
    "- TensorFlow Lite"
   ]
  },
  {
   "cell_type": "code",
   "execution_count": null,
   "metadata": {},
   "outputs": [],
   "source": [
    "# Convert the model to TensorFlow Lite format\n",
    "converter = tf.lite.TFLiteConverter.from_keras_model(model)\n",
    "tflite_model = converter.convert()\n",
    "\n",
    "# Save the TensorFlow Lite model\n",
    "with open('bawang_merah_forecasting.tflite', 'wb') as file:\n",
    "    file.write(tflite_model)\n",
    "\n",
    "# Load the TensorFlow Lite model (for inference, not training)\n",
    "interpreter = tf.lite.Interpreter(model_path='bawang_merah_forecasting.tflite')\n",
    "interpreter.allocate_tensors()\n",
    "\n",
    "# Getting input and output tensors\n",
    "input_details = interpreter.get_input_details()\n",
    "output_details = interpreter.get_output_details()"
   ]
  },
  {
   "cell_type": "markdown",
   "metadata": {},
   "source": [
    "## Testing Model with another input"
   ]
  },
  {
   "cell_type": "code",
   "execution_count": 53,
   "metadata": {},
   "outputs": [],
   "source": [
    "# Memuat data\n",
    "data = pd.read_csv(\"C:\\\\Users\\\\dprih\\\\OneDrive\\\\Dokumen\\\\ITS\\\\ITS Semester 6\\\\Capstone-Bangkit-ML\\\\scrap-data-new\\\\new-scrap-mean\\\\bawang_merah_mean.csv\")\n",
    "data['tanggal'] = pd.to_datetime(data['tanggal'])\n",
    "data.set_index('tanggal', inplace=True)\n",
    "data = data.drop(columns=['no'])"
   ]
  },
  {
   "cell_type": "code",
   "execution_count": 54,
   "metadata": {},
   "outputs": [],
   "source": [
    "# Load the model\n",
    "model = load_model('bawang_merah_forecasting.h5')"
   ]
  },
  {
   "cell_type": "code",
   "execution_count": 55,
   "metadata": {},
   "outputs": [],
   "source": [
    "date_input = input(\"Masukkan tanggal (YYYY-MM-DD): \")\n"
   ]
  },
  {
   "cell_type": "code",
   "execution_count": 56,
   "metadata": {},
   "outputs": [],
   "source": [
    "start_date = datetime.strptime('2023-01-01', '%Y-%m-%d')\n",
    "date_input = datetime.strptime(date_input, '%Y-%m-%d')\n",
    "date_input = (date_input - start_date).days"
   ]
  },
  {
   "cell_type": "code",
   "execution_count": 57,
   "metadata": {},
   "outputs": [],
   "source": [
    "# Assuming date_input is a single timestep and you want to use dummy data for the other 9 timesteps\n",
    "date_input = np.array([date_input] * 10)\n",
    "\n",
    "# Reshape your data to match the input shape that your model expects\n",
    "date_input = np.reshape(date_input, (1, 10, 1))"
   ]
  },
  {
   "cell_type": "code",
   "execution_count": 58,
   "metadata": {},
   "outputs": [
    {
     "name": "stdout",
     "output_type": "stream",
     "text": [
      "1/1 [==============================] - 0s 496ms/step\n",
      "[[75449.445]]\n"
     ]
    }
   ],
   "source": [
    "\n",
    "prediction = model.predict(date_input)\n",
    "\n",
    "# Load the original data\n",
    "original_data = data\n",
    "\n",
    "# Create a new MinMaxScaler\n",
    "scaler = MinMaxScaler(feature_range=(0, 1))\n",
    "\n",
    "# Fit the scaler with the original data\n",
    "scaler.fit(original_data)\n",
    "\n",
    "# Now you can use the scaler to reverse the scaling\n",
    "prediction = scaler.inverse_transform(prediction)\n",
    "\n",
    "print(prediction)"
   ]
  },
  {
   "cell_type": "markdown",
   "metadata": {},
   "source": [
    "## Testing model with another input V2"
   ]
  },
  {
   "cell_type": "code",
   "execution_count": 69,
   "metadata": {},
   "outputs": [
    {
     "data": {
      "text/html": [
       "<div>\n",
       "<style scoped>\n",
       "    .dataframe tbody tr th:only-of-type {\n",
       "        vertical-align: middle;\n",
       "    }\n",
       "\n",
       "    .dataframe tbody tr th {\n",
       "        vertical-align: top;\n",
       "    }\n",
       "\n",
       "    .dataframe thead th {\n",
       "        text-align: right;\n",
       "    }\n",
       "</style>\n",
       "<table border=\"1\" class=\"dataframe\">\n",
       "  <thead>\n",
       "    <tr style=\"text-align: right;\">\n",
       "      <th></th>\n",
       "      <th>hrg</th>\n",
       "    </tr>\n",
       "    <tr>\n",
       "      <th>tanggal</th>\n",
       "      <th></th>\n",
       "    </tr>\n",
       "  </thead>\n",
       "  <tbody>\n",
       "    <tr>\n",
       "      <th>2023-01-01</th>\n",
       "      <td>31497.447368</td>\n",
       "    </tr>\n",
       "    <tr>\n",
       "      <th>2023-01-02</th>\n",
       "      <td>31321.578947</td>\n",
       "    </tr>\n",
       "    <tr>\n",
       "      <th>2023-01-03</th>\n",
       "      <td>31469.868421</td>\n",
       "    </tr>\n",
       "    <tr>\n",
       "      <th>2023-01-04</th>\n",
       "      <td>31473.815789</td>\n",
       "    </tr>\n",
       "    <tr>\n",
       "      <th>2023-01-05</th>\n",
       "      <td>31519.789474</td>\n",
       "    </tr>\n",
       "    <tr>\n",
       "      <th>...</th>\n",
       "      <td>...</td>\n",
       "    </tr>\n",
       "    <tr>\n",
       "      <th>2024-06-11</th>\n",
       "      <td>36350.052632</td>\n",
       "    </tr>\n",
       "    <tr>\n",
       "      <th>2024-06-12</th>\n",
       "      <td>36373.315789</td>\n",
       "    </tr>\n",
       "    <tr>\n",
       "      <th>2024-06-13</th>\n",
       "      <td>36038.473684</td>\n",
       "    </tr>\n",
       "    <tr>\n",
       "      <th>2024-06-14</th>\n",
       "      <td>36172.421053</td>\n",
       "    </tr>\n",
       "    <tr>\n",
       "      <th>2024-06-15</th>\n",
       "      <td>26600.763158</td>\n",
       "    </tr>\n",
       "  </tbody>\n",
       "</table>\n",
       "<p>533 rows × 1 columns</p>\n",
       "</div>"
      ],
      "text/plain": [
       "                     hrg\n",
       "tanggal                 \n",
       "2023-01-01  31497.447368\n",
       "2023-01-02  31321.578947\n",
       "2023-01-03  31469.868421\n",
       "2023-01-04  31473.815789\n",
       "2023-01-05  31519.789474\n",
       "...                  ...\n",
       "2024-06-11  36350.052632\n",
       "2024-06-12  36373.315789\n",
       "2024-06-13  36038.473684\n",
       "2024-06-14  36172.421053\n",
       "2024-06-15  26600.763158\n",
       "\n",
       "[533 rows x 1 columns]"
      ]
     },
     "execution_count": 69,
     "metadata": {},
     "output_type": "execute_result"
    }
   ],
   "source": [
    "# Memuat data\n",
    "data = pd.read_csv(\"C:\\\\Users\\\\dprih\\\\OneDrive\\\\Dokumen\\\\ITS\\\\ITS Semester 6\\\\Capstone-Bangkit-ML\\\\scrap-data-new\\\\new-scrap-mean\\\\bawang_merah_mean.csv\")\n",
    "data['tanggal'] = pd.to_datetime(data['tanggal'])\n",
    "data.set_index('tanggal', inplace=True)\n",
    "data = data.drop(columns=['no'])\n",
    "data"
   ]
  },
  {
   "cell_type": "code",
   "execution_count": 70,
   "metadata": {},
   "outputs": [],
   "source": [
    "model = load_model('bawang_merah_forecasting.h5')\n",
    "time_step=10"
   ]
  },
  {
   "cell_type": "code",
   "execution_count": 71,
   "metadata": {},
   "outputs": [],
   "source": [
    "# Create a new MinMaxScaler\n",
    "scaler = MinMaxScaler(feature_range=(0, 1))\n",
    "\n",
    "# Fit the scaler with the original data\n",
    "# scaler.fit(data)\n",
    "data['hrg'] = scaler.fit_transform(data['hrg'].values.reshape(-1,1))"
   ]
  },
  {
   "cell_type": "code",
   "execution_count": 73,
   "metadata": {},
   "outputs": [
    {
     "name": "stdout",
     "output_type": "stream",
     "text": [
      "1/1 [==============================] - 0s 14ms/step\n",
      "1/1 [==============================] - 0s 16ms/step\n",
      "1/1 [==============================] - 0s 15ms/step\n",
      "1/1 [==============================] - 0s 15ms/step\n",
      "1/1 [==============================] - 0s 15ms/step\n",
      "1/1 [==============================] - 0s 16ms/step\n",
      "1/1 [==============================] - 0s 16ms/step\n",
      "1/1 [==============================] - 0s 16ms/step\n",
      "1/1 [==============================] - 0s 16ms/step\n",
      "Predicted price for 2024-06-24: 31464.244140625\n"
     ]
    },
    {
     "ename": "",
     "evalue": "",
     "output_type": "error",
     "traceback": [
      "\u001b[1;31mThe Kernel crashed while executing code in the the current cell or a previous cell. Please review the code in the cell(s) to identify a possible cause of the failure. Click <a href='https://aka.ms/vscodeJupyterKernelCrash'>here</a> for more info. View Jupyter <a href='command:jupyter.viewOutput'>log</a> for further details."
     ]
    }
   ],
   "source": [
    "# Assumptions (since they were not provided in the original code)\n",
    "# model, data, time_step, and scaler should be already defined in your environment\n",
    "\n",
    "# Ask the user for the future date\n",
    "future_date_str = input(\"Enter the future date to predict (YYYY-MM-DD): \")\n",
    "future_date = pd.to_datetime(future_date_str)\n",
    "\n",
    "# Calculate the number of future steps\n",
    "last_date = data.index[-1]\n",
    "future_steps = (future_date - last_date).days\n",
    "\n",
    "if future_steps <= 0:\n",
    "    raise ValueError(\"The future date must be later than the last date in the dataset.\")\n",
    "\n",
    "# Extract the last sequence from the data\n",
    "last_sequence = data.values[-time_step:]  # Assumes `data` is a pandas DataFrame\n",
    "\n",
    "# Generate predictions for the specified future steps\n",
    "for _ in range(future_steps):\n",
    "    # Reshape the input to [samples, time steps, features]\n",
    "    input_sequence = last_sequence.reshape((1, time_step, 1))\n",
    "    next_prediction = model.predict(input_sequence)\n",
    "    \n",
    "    # Update the last sequence by shifting left and adding the latest prediction\n",
    "    last_sequence = np.append(last_sequence[1:], next_prediction)[-time_step:]\n",
    "\n",
    "# Rescale the final prediction back to the original scale\n",
    "final_prediction = scaler.inverse_transform(np.array(next_prediction).reshape(-1, 1))\n",
    "\n",
    "# Display the final prediction\n",
    "print(f\"Predicted price for {future_date_str}: {final_prediction[0, 0]}\")\n"
   ]
  }
 ],
 "metadata": {
  "kernelspec": {
   "display_name": "base",
   "language": "python",
   "name": "python3"
  },
  "language_info": {
   "codemirror_mode": {
    "name": "ipython",
    "version": 3
   },
   "file_extension": ".py",
   "mimetype": "text/x-python",
   "name": "python",
   "nbconvert_exporter": "python",
   "pygments_lexer": "ipython3",
   "version": "3.9.2"
  }
 },
 "nbformat": 4,
 "nbformat_minor": 2
}
