{
 "cells": [
  {
   "cell_type": "code",
   "execution_count": 1,
   "metadata": {},
   "outputs": [],
   "source": [
    "import tensorflow as tf\n",
    "import pandas as pd\n",
    "import numpy as np\n",
    "from sklearn.preprocessing import MinMaxScaler\n",
    "from tensorflow.keras.models import Sequential\n",
    "from tensorflow.keras.layers import LSTM, Dense, Bidirectional\n",
    "import matplotlib.pyplot as plt\n",
    "from sklearn.metrics import mean_absolute_percentage_error"
   ]
  },
  {
   "cell_type": "code",
   "execution_count": 2,
   "metadata": {},
   "outputs": [
    {
     "name": "stdout",
     "output_type": "stream",
     "text": [
      "c:\\Users\\dprih\\OneDrive\\Dokumen\\ITS\\ITS Semester 6\\Capstone-Bangkit-ML\\forecasting\\model\n"
     ]
    }
   ],
   "source": [
    "import os\n",
    "print(os.getcwd())\n"
   ]
  },
  {
   "cell_type": "code",
   "execution_count": 3,
   "metadata": {},
   "outputs": [
    {
     "data": {
      "text/html": [
       "<div>\n",
       "<style scoped>\n",
       "    .dataframe tbody tr th:only-of-type {\n",
       "        vertical-align: middle;\n",
       "    }\n",
       "\n",
       "    .dataframe tbody tr th {\n",
       "        vertical-align: top;\n",
       "    }\n",
       "\n",
       "    .dataframe thead th {\n",
       "        text-align: right;\n",
       "    }\n",
       "</style>\n",
       "<table border=\"1\" class=\"dataframe\">\n",
       "  <thead>\n",
       "    <tr style=\"text-align: right;\">\n",
       "      <th></th>\n",
       "      <th>no</th>\n",
       "      <th>hrg</th>\n",
       "    </tr>\n",
       "    <tr>\n",
       "      <th>tanggal</th>\n",
       "      <th></th>\n",
       "      <th></th>\n",
       "    </tr>\n",
       "  </thead>\n",
       "  <tbody>\n",
       "    <tr>\n",
       "      <th>2023-01-01</th>\n",
       "      <td>0</td>\n",
       "      <td>7039.105263</td>\n",
       "    </tr>\n",
       "    <tr>\n",
       "      <th>2023-01-02</th>\n",
       "      <td>1</td>\n",
       "      <td>7061.026316</td>\n",
       "    </tr>\n",
       "    <tr>\n",
       "      <th>2023-01-03</th>\n",
       "      <td>2</td>\n",
       "      <td>7065.394737</td>\n",
       "    </tr>\n",
       "    <tr>\n",
       "      <th>2023-01-04</th>\n",
       "      <td>3</td>\n",
       "      <td>7068.684211</td>\n",
       "    </tr>\n",
       "    <tr>\n",
       "      <th>2023-01-05</th>\n",
       "      <td>4</td>\n",
       "      <td>7086.236842</td>\n",
       "    </tr>\n",
       "    <tr>\n",
       "      <th>...</th>\n",
       "      <td>...</td>\n",
       "      <td>...</td>\n",
       "    </tr>\n",
       "    <tr>\n",
       "      <th>2024-05-29</th>\n",
       "      <td>514</td>\n",
       "      <td>8166.184211</td>\n",
       "    </tr>\n",
       "    <tr>\n",
       "      <th>2024-05-30</th>\n",
       "      <td>515</td>\n",
       "      <td>8157.421053</td>\n",
       "    </tr>\n",
       "    <tr>\n",
       "      <th>2024-05-31</th>\n",
       "      <td>516</td>\n",
       "      <td>8161.789474</td>\n",
       "    </tr>\n",
       "    <tr>\n",
       "      <th>2024-06-01</th>\n",
       "      <td>517</td>\n",
       "      <td>8164.105263</td>\n",
       "    </tr>\n",
       "    <tr>\n",
       "      <th>2024-06-02</th>\n",
       "      <td>518</td>\n",
       "      <td>8172.000000</td>\n",
       "    </tr>\n",
       "  </tbody>\n",
       "</table>\n",
       "<p>519 rows × 2 columns</p>\n",
       "</div>"
      ],
      "text/plain": [
       "             no          hrg\n",
       "tanggal                     \n",
       "2023-01-01    0  7039.105263\n",
       "2023-01-02    1  7061.026316\n",
       "2023-01-03    2  7065.394737\n",
       "2023-01-04    3  7068.684211\n",
       "2023-01-05    4  7086.236842\n",
       "...         ...          ...\n",
       "2024-05-29  514  8166.184211\n",
       "2024-05-30  515  8157.421053\n",
       "2024-05-31  516  8161.789474\n",
       "2024-06-01  517  8164.105263\n",
       "2024-06-02  518  8172.000000\n",
       "\n",
       "[519 rows x 2 columns]"
      ]
     },
     "execution_count": 3,
     "metadata": {},
     "output_type": "execute_result"
    }
   ],
   "source": [
    "# Memuat data\n",
    "data = pd.read_csv(\"C:\\\\Users\\\\dprih\\\\OneDrive\\\\Dokumen\\\\ITS\\\\ITS Semester 6\\\\Capstone-Bangkit-ML\\\\scrap-data-new\\\\new-scrap-mean\\\\jagung_mean.csv\")\n",
    "data['tanggal'] = pd.to_datetime(data['tanggal'])\n",
    "data.set_index('tanggal', inplace=True)\n",
    "data"
   ]
  },
  {
   "cell_type": "code",
   "execution_count": 4,
   "metadata": {},
   "outputs": [
    {
     "data": {
      "text/html": [
       "<div>\n",
       "<style scoped>\n",
       "    .dataframe tbody tr th:only-of-type {\n",
       "        vertical-align: middle;\n",
       "    }\n",
       "\n",
       "    .dataframe tbody tr th {\n",
       "        vertical-align: top;\n",
       "    }\n",
       "\n",
       "    .dataframe thead th {\n",
       "        text-align: right;\n",
       "    }\n",
       "</style>\n",
       "<table border=\"1\" class=\"dataframe\">\n",
       "  <thead>\n",
       "    <tr style=\"text-align: right;\">\n",
       "      <th></th>\n",
       "      <th>hrg</th>\n",
       "    </tr>\n",
       "    <tr>\n",
       "      <th>tanggal</th>\n",
       "      <th></th>\n",
       "    </tr>\n",
       "  </thead>\n",
       "  <tbody>\n",
       "    <tr>\n",
       "      <th>2023-01-01</th>\n",
       "      <td>7039.105263</td>\n",
       "    </tr>\n",
       "    <tr>\n",
       "      <th>2023-01-02</th>\n",
       "      <td>7061.026316</td>\n",
       "    </tr>\n",
       "    <tr>\n",
       "      <th>2023-01-03</th>\n",
       "      <td>7065.394737</td>\n",
       "    </tr>\n",
       "    <tr>\n",
       "      <th>2023-01-04</th>\n",
       "      <td>7068.684211</td>\n",
       "    </tr>\n",
       "    <tr>\n",
       "      <th>2023-01-05</th>\n",
       "      <td>7086.236842</td>\n",
       "    </tr>\n",
       "    <tr>\n",
       "      <th>...</th>\n",
       "      <td>...</td>\n",
       "    </tr>\n",
       "    <tr>\n",
       "      <th>2024-05-29</th>\n",
       "      <td>8166.184211</td>\n",
       "    </tr>\n",
       "    <tr>\n",
       "      <th>2024-05-30</th>\n",
       "      <td>8157.421053</td>\n",
       "    </tr>\n",
       "    <tr>\n",
       "      <th>2024-05-31</th>\n",
       "      <td>8161.789474</td>\n",
       "    </tr>\n",
       "    <tr>\n",
       "      <th>2024-06-01</th>\n",
       "      <td>8164.105263</td>\n",
       "    </tr>\n",
       "    <tr>\n",
       "      <th>2024-06-02</th>\n",
       "      <td>8172.000000</td>\n",
       "    </tr>\n",
       "  </tbody>\n",
       "</table>\n",
       "<p>519 rows × 1 columns</p>\n",
       "</div>"
      ],
      "text/plain": [
       "                    hrg\n",
       "tanggal                \n",
       "2023-01-01  7039.105263\n",
       "2023-01-02  7061.026316\n",
       "2023-01-03  7065.394737\n",
       "2023-01-04  7068.684211\n",
       "2023-01-05  7086.236842\n",
       "...                 ...\n",
       "2024-05-29  8166.184211\n",
       "2024-05-30  8157.421053\n",
       "2024-05-31  8161.789474\n",
       "2024-06-01  8164.105263\n",
       "2024-06-02  8172.000000\n",
       "\n",
       "[519 rows x 1 columns]"
      ]
     },
     "execution_count": 4,
     "metadata": {},
     "output_type": "execute_result"
    }
   ],
   "source": [
    "#Drop the no \n",
    "data = data.drop(columns=['no'])\n",
    "data"
   ]
  },
  {
   "cell_type": "code",
   "execution_count": 5,
   "metadata": {},
   "outputs": [],
   "source": [
    "# Menormalisasi data harga\n",
    "scaler = MinMaxScaler(feature_range=(0, 1))\n",
    "data['hrg'] = scaler.fit_transform(data['hrg'].values.reshape(-1,1))"
   ]
  },
  {
   "cell_type": "code",
   "execution_count": 6,
   "metadata": {},
   "outputs": [],
   "source": [
    "# Membuat dataset untuk LSTM\n",
    "def create_dataset(dataset, time_step=1):\n",
    "    dataX, dataY = [], []\n",
    "    for i in range(len(dataset)-time_step-1):\n",
    "        a = dataset[i:(i+time_step), 0]\n",
    "        dataX.append(a)\n",
    "        dataY.append(dataset[i + time_step, 0])\n",
    "    return np.array(dataX), np.array(dataY)"
   ]
  },
  {
   "cell_type": "code",
   "execution_count": 7,
   "metadata": {},
   "outputs": [],
   "source": [
    "# Parameter\n",
    "time_step = 10"
   ]
  },
  {
   "cell_type": "code",
   "execution_count": 8,
   "metadata": {},
   "outputs": [],
   "source": [
    "# Membagi data menjadi train dan test\n",
    "train_size = int(len(data) * 0.8)\n",
    "test_size = len(data) - train_size\n",
    "train, test = data[0:train_size], data[train_size:len(data)]"
   ]
  },
  {
   "cell_type": "code",
   "execution_count": 9,
   "metadata": {},
   "outputs": [],
   "source": [
    "# Membuat dataset untuk train dan test\n",
    "trainX, trainY = create_dataset(train.values, time_step)\n",
    "testX, testY = create_dataset(test.values, time_step)"
   ]
  },
  {
   "cell_type": "code",
   "execution_count": 10,
   "metadata": {},
   "outputs": [],
   "source": [
    "# Mengubah input menjadi [samples, time steps, features]\n",
    "trainX = trainX.reshape(trainX.shape[0], trainX.shape[1], 1)\n",
    "testX = testX.reshape(testX.shape[0], testX.shape[1], 1)"
   ]
  },
  {
   "cell_type": "code",
   "execution_count": 11,
   "metadata": {},
   "outputs": [
    {
     "name": "stdout",
     "output_type": "stream",
     "text": [
      "Model: \"sequential\"\n",
      "_________________________________________________________________\n",
      " Layer (type)                Output Shape              Param #   \n",
      "=================================================================\n",
      " lstm (LSTM)                 (None, 10, 50)            10400     \n",
      "                                                                 \n",
      " lstm_1 (LSTM)               (None, 50)                20200     \n",
      "                                                                 \n",
      " dense (Dense)               (None, 25)                1275      \n",
      "                                                                 \n",
      " dense_1 (Dense)             (None, 1)                 26        \n",
      "                                                                 \n",
      "=================================================================\n",
      "Total params: 31,901\n",
      "Trainable params: 31,901\n",
      "Non-trainable params: 0\n",
      "_________________________________________________________________\n"
     ]
    }
   ],
   "source": [
    "# Membangun model LSTM\n",
    "model = Sequential()\n",
    "model.add(LSTM(50, return_sequences=True, input_shape=(time_step, 1)))\n",
    "model.add(LSTM(50, return_sequences=False))\n",
    "model.add(Dense(25))\n",
    "model.add(Dense(1))\n",
    "\n",
    "# Menampilkan ringkasan model\n",
    "model.summary()"
   ]
  },
  {
   "cell_type": "code",
   "execution_count": 12,
   "metadata": {},
   "outputs": [
    {
     "name": "stdout",
     "output_type": "stream",
     "text": [
      "Epoch 1/20\n",
      "404/404 [==============================] - 8s 5ms/step - loss: 0.0076\n",
      "Epoch 2/20\n",
      "404/404 [==============================] - 2s 6ms/step - loss: 3.4646e-04\n",
      "Epoch 3/20\n",
      "404/404 [==============================] - 2s 5ms/step - loss: 3.1926e-04\n",
      "Epoch 4/20\n",
      "404/404 [==============================] - 2s 6ms/step - loss: 2.6040e-04\n",
      "Epoch 5/20\n",
      "404/404 [==============================] - 2s 6ms/step - loss: 2.5490e-04\n",
      "Epoch 6/20\n",
      "404/404 [==============================] - 2s 5ms/step - loss: 2.4489e-04\n",
      "Epoch 7/20\n",
      "404/404 [==============================] - 2s 5ms/step - loss: 2.2986e-04\n",
      "Epoch 8/20\n",
      "404/404 [==============================] - 2s 6ms/step - loss: 2.4358e-04\n",
      "Epoch 9/20\n",
      "404/404 [==============================] - 2s 5ms/step - loss: 2.3933e-04\n",
      "Epoch 10/20\n",
      "404/404 [==============================] - 2s 5ms/step - loss: 2.2764e-04\n",
      "Epoch 11/20\n",
      "404/404 [==============================] - 2s 5ms/step - loss: 2.5147e-04\n",
      "Epoch 12/20\n",
      "404/404 [==============================] - 2s 5ms/step - loss: 2.1607e-04\n",
      "Epoch 13/20\n",
      "404/404 [==============================] - 2s 5ms/step - loss: 2.0358e-04\n",
      "Epoch 14/20\n",
      "404/404 [==============================] - 2s 5ms/step - loss: 2.0282e-04\n",
      "Epoch 15/20\n",
      "404/404 [==============================] - 2s 5ms/step - loss: 1.9026e-04\n",
      "Epoch 16/20\n",
      "404/404 [==============================] - 2s 5ms/step - loss: 1.8765e-04\n",
      "Epoch 17/20\n",
      "404/404 [==============================] - 2s 6ms/step - loss: 1.8260e-04\n",
      "Epoch 18/20\n",
      "404/404 [==============================] - 2s 6ms/step - loss: 1.9817e-04\n",
      "Epoch 19/20\n",
      "404/404 [==============================] - 2s 6ms/step - loss: 1.6127e-04\n",
      "Epoch 20/20\n",
      "404/404 [==============================] - 2s 6ms/step - loss: 1.6971e-04\n"
     ]
    },
    {
     "data": {
      "text/plain": [
       "<keras.callbacks.History at 0x209daba6910>"
      ]
     },
     "execution_count": 12,
     "metadata": {},
     "output_type": "execute_result"
    }
   ],
   "source": [
    "# Compile model\n",
    "model.compile(optimizer=tf.keras.optimizers.SGD(momentum=0.9), loss=tf.keras.losses.Huber())\n",
    "\n",
    "# Melatih model\n",
    "model.fit(trainX, trainY, batch_size=1, epochs=20)"
   ]
  },
  {
   "cell_type": "code",
   "execution_count": 13,
   "metadata": {},
   "outputs": [
    {
     "name": "stdout",
     "output_type": "stream",
     "text": [
      "13/13 [==============================] - 1s 3ms/step\n",
      "3/3 [==============================] - 0s 3ms/step\n"
     ]
    }
   ],
   "source": [
    "# Melakukan prediksi\n",
    "train_predict = model.predict(trainX)\n",
    "test_predict = model.predict(testX)"
   ]
  },
  {
   "cell_type": "code",
   "execution_count": 14,
   "metadata": {},
   "outputs": [],
   "source": [
    "# Mengembalikan harga ke skala semula\n",
    "train_predict = scaler.inverse_transform(train_predict)\n",
    "test_predict = scaler.inverse_transform(test_predict)\n",
    "trainY = scaler.inverse_transform(trainY.reshape(-1, 1))\n",
    "testY = scaler.inverse_transform(testY.reshape(-1, 1))"
   ]
  },
  {
   "cell_type": "code",
   "execution_count": 15,
   "metadata": {},
   "outputs": [
    {
     "name": "stdout",
     "output_type": "stream",
     "text": [
      "MAPE Train: 0.31389048938580144%\n",
      "MAPE Test: 2.3707118746594853%\n"
     ]
    }
   ],
   "source": [
    "# Menghitung MAPE untuk train dan test\n",
    "mape_train = mean_absolute_percentage_error(trainY, train_predict) * 100\n",
    "mape_test = mean_absolute_percentage_error(testY, test_predict) * 100\n",
    "\n",
    "print(f\"MAPE Train: {mape_train}%\")\n",
    "print(f\"MAPE Test: {mape_test}%\")"
   ]
  },
  {
   "cell_type": "code",
   "execution_count": 16,
   "metadata": {},
   "outputs": [
    {
     "name": "stdout",
     "output_type": "stream",
     "text": [
      "Hasil Prediksi Train:\n",
      "             harga_asli  harga_prediksi\n",
      "tanggal                                \n",
      "2023-01-11  7086.052632     7079.311523\n",
      "2023-01-12  7099.210526     7084.768555\n",
      "2023-01-13  7118.500000     7088.387695\n",
      "2023-01-14  7122.868421     7092.920410\n",
      "2023-01-15  7118.921053     7098.066406\n",
      "Hasil Prediksi Test:\n",
      "             harga_asli  harga_prediksi\n",
      "tanggal                                \n",
      "2024-03-01  8830.526316     9011.378906\n",
      "2024-03-02  8825.263158     9013.208984\n",
      "2024-03-03  8849.447368     9014.195312\n",
      "2024-03-04  8818.868421     9016.947266\n",
      "2024-03-05  8783.578947     9018.125000\n"
     ]
    }
   ],
   "source": [
    "\n",
    "# Membuat dataframe untuk hasil prediksi train\n",
    "train_predict_df = pd.DataFrame({\n",
    "    'tanggal': data.index[time_step:len(train_predict) + time_step],\n",
    "    'harga_asli': trainY.flatten(),\n",
    "    'harga_prediksi': train_predict.flatten()\n",
    "})\n",
    "train_predict_df.set_index('tanggal', inplace=True)\n",
    "\n",
    "# Membuat dataframe untuk hasil prediksi test\n",
    "test_predict_df = pd.DataFrame({\n",
    "    'tanggal': data.index[len(train_predict) + (time_step * 2) + 1:len(data) - 1],\n",
    "    'harga_asli': testY.flatten(),\n",
    "    'harga_prediksi': test_predict.flatten()\n",
    "})\n",
    "test_predict_df.set_index('tanggal', inplace=True)\n",
    "\n",
    "# Menampilkan hasil prediksi train\n",
    "print(\"Hasil Prediksi Train:\")\n",
    "print(train_predict_df.head())\n",
    "\n",
    "# Menampilkan hasil prediksi test\n",
    "print(\"Hasil Prediksi Test:\")\n",
    "print(test_predict_df.head())"
   ]
  },
  {
   "cell_type": "code",
   "execution_count": 18,
   "metadata": {},
   "outputs": [
    {
     "name": "stdout",
     "output_type": "stream",
     "text": [
      "1/1 [==============================] - 0s 16ms/step\n",
      "1/1 [==============================] - 0s 21ms/step\n",
      "1/1 [==============================] - 0s 15ms/step\n",
      "1/1 [==============================] - 0s 15ms/step\n",
      "1/1 [==============================] - 0s 14ms/step\n",
      "1/1 [==============================] - 0s 16ms/step\n",
      "1/1 [==============================] - 0s 14ms/step\n",
      "1/1 [==============================] - 0s 15ms/step\n",
      "1/1 [==============================] - 0s 15ms/step\n",
      "1/1 [==============================] - 0s 15ms/step\n",
      "1/1 [==============================] - 0s 16ms/step\n",
      "1/1 [==============================] - 0s 15ms/step\n",
      "1/1 [==============================] - 0s 16ms/step\n",
      "1/1 [==============================] - 0s 16ms/step\n",
      "1/1 [==============================] - 0s 17ms/step\n",
      "1/1 [==============================] - 0s 14ms/step\n",
      "1/1 [==============================] - 0s 14ms/step\n",
      "1/1 [==============================] - 0s 17ms/step\n",
      "1/1 [==============================] - 0s 20ms/step\n",
      "1/1 [==============================] - 0s 16ms/step\n",
      "1/1 [==============================] - 0s 16ms/step\n",
      "1/1 [==============================] - 0s 15ms/step\n",
      "1/1 [==============================] - 0s 15ms/step\n",
      "1/1 [==============================] - 0s 15ms/step\n",
      "1/1 [==============================] - 0s 15ms/step\n",
      "1/1 [==============================] - 0s 15ms/step\n",
      "1/1 [==============================] - 0s 15ms/step\n",
      "1/1 [==============================] - 0s 16ms/step\n",
      "1/1 [==============================] - 0s 15ms/step\n",
      "1/1 [==============================] - 0s 15ms/step\n",
      "Hasil Prediksi Masa Depan:\n",
      "            harga_prediksi\n",
      "tanggal                   \n",
      "2024-06-03     8313.740234\n",
      "2024-06-04     8319.570312\n",
      "2024-06-05     8332.364258\n",
      "2024-06-06     8351.528320\n",
      "2024-06-07     8374.062500\n"
     ]
    }
   ],
   "source": [
    "# Prediksi harga masa depan\n",
    "future_steps = 30  # jumlah langkah ke depan yang ingin diprediksi\n",
    "last_sequence = data.values[-time_step:]  # ambil urutan terakhir dari data\n",
    "\n",
    "future_predictions = []\n",
    "\n",
    "for _ in range(future_steps):\n",
    "    # Ubah bentuk input menjadi [samples, time steps, features]\n",
    "    input_sequence = last_sequence.reshape((1, time_step, 1))\n",
    "    next_prediction = model.predict(input_sequence)\n",
    "    future_predictions.append(next_prediction[0, 0])\n",
    "    \n",
    "    # Perbarui urutan terakhir dengan menggeser ke kiri dan menambahkan prediksi terbaru\n",
    "    last_sequence = np.append(last_sequence[1:], next_prediction)[-time_step:]\n",
    "\n",
    "# Mengembalikan harga ke skala semula untuk prediksi masa depan\n",
    "future_predictions = scaler.inverse_transform(np.array(future_predictions).reshape(-1, 1))\n",
    "\n",
    "# Membuat tanggal untuk prediksi masa depan\n",
    "last_date = data.index[-1]\n",
    "future_dates = pd.date_range(start=last_date, periods=future_steps + 1, inclusive='right')\n",
    "\n",
    "# Membuat dataframe untuk hasil prediksi masa depan\n",
    "future_predict_df = pd.DataFrame({\n",
    "    'tanggal': future_dates,\n",
    "    'harga_prediksi': future_predictions.flatten()\n",
    "})\n",
    "future_predict_df.set_index('tanggal', inplace=True)\n",
    "\n",
    "# Menampilkan hasil prediksi masa depan\n",
    "print(\"Hasil Prediksi Masa Depan:\")\n",
    "print(future_predict_df.head())"
   ]
  },
  {
   "cell_type": "code",
   "execution_count": 19,
   "metadata": {},
   "outputs": [
    {
     "data": {
      "image/png": "[encoded data removed]",
      "text/plain": [
       "<Figure size 1600x800 with 1 Axes>"
      ]
     },
     "metadata": {},
     "output_type": "display_data"
    }
   ],
   "source": [
    "# Visualisasi hasil\n",
    "plt.figure(figsize=(16,8))\n",
    "plt.plot(data.index, scaler.inverse_transform(data['hrg'].values.reshape(-1, 1)), label='Harga Asli')\n",
    "plt.plot(data.index[time_step:len(train_predict) + time_step], train_predict, label='Prediksi Train')\n",
    "plt.plot(data.index[len(train_predict) + (time_step * 2) + 1:len(data) - 1], test_predict, label='Prediksi Test')\n",
    "plt.plot(future_predict_df.index, future_predict_df['harga_prediksi'], label='Prediksi Masa Depan')\n",
    "plt.xlabel('Tanggal')\n",
    "plt.ylabel('Harga')\n",
    "plt.legend()\n",
    "plt.show()"
   ]
  },
  {
   "cell_type": "markdown",
   "metadata": {},
   "source": [
    "## Saving the Model in Different Formats:\n",
    "- Pickle"
   ]
  },
  {
   "cell_type": "code",
   "execution_count": null,
   "metadata": {},
   "outputs": [],
   "source": [
    "import pickle\n",
    "\n",
    "# Save the model using Pickle\n",
    "with open('jagung_forecasting.pkl', 'wb') as file:\n",
    "    pickle.dump(model, file)\n",
    "\n",
    "# Load the model using Pickle\n",
    "with open('jagung_forecasting.pkl', 'rb') as file:\n",
    "    loaded_model_pickle = pickle.load(file)"
   ]
  },
  {
   "cell_type": "markdown",
   "metadata": {},
   "source": [
    "- H5"
   ]
  },
  {
   "cell_type": "code",
   "execution_count": 20,
   "metadata": {},
   "outputs": [
    {
     "ename": "",
     "evalue": "",
     "output_type": "error",
     "traceback": [
      "\u001b[1;31mThe Kernel crashed while executing code in the the current cell or a previous cell. Please review the code in the cell(s) to identify a possible cause of the failure. Click <a href='https://aka.ms/vscodeJupyterKernelCrash'>here</a> for more info. View Jupyter <a href='command:jupyter.viewOutput'>log</a> for further details."
     ]
    }
   ],
   "source": [
    "# Save the model using H5 format\n",
    "model.save('jagung_forecasting.h5')\n",
    "\n",
    "# Load the model using H5 format\n",
    "from tensorflow.keras.models import load_model\n",
    "loaded_model_h5 = load_model('jagung_forecasting.h5')"
   ]
  },
  {
   "cell_type": "markdown",
   "metadata": {},
   "source": [
    "- TensorFlow Saved Model"
   ]
  },
  {
   "cell_type": "code",
   "execution_count": null,
   "metadata": {},
   "outputs": [],
   "source": [
    "# Save the model using TensorFlow SavedModel format\n",
    "model.save('saved_model/jagung_forecasting')\n",
    "\n",
    "# Load the model using TensorFlow SavedModel format\n",
    "loaded_model_saved = tf.keras.models.load_model('saved_model/jagung_forecasting')"
   ]
  },
  {
   "cell_type": "markdown",
   "metadata": {},
   "source": [
    "- TensorFlow Lite"
   ]
  },
  {
   "cell_type": "code",
   "execution_count": null,
   "metadata": {},
   "outputs": [],
   "source": [
    "# Convert the model to TensorFlow Lite format\n",
    "converter = tf.lite.TFLiteConverter.from_keras_model(model)\n",
    "tflite_model = converter.convert()\n",
    "\n",
    "# Save the TensorFlow Lite model\n",
    "with open('jagung_forecasting.tflite', 'wb') as file:\n",
    "    file.write(tflite_model)\n",
    "\n",
    "# Load the TensorFlow Lite model (for inference, not training)\n",
    "interpreter = tf.lite.Interpreter(model_path='jagung_forecasting.tflite')\n",
    "interpreter.allocate_tensors()\n",
    "\n",
    "# Getting input and output tensors\n",
    "input_details = interpreter.get_input_details()\n",
    "output_details = interpreter.get_output_details()"
   ]
  }
 ],
 "metadata": {
  "kernelspec": {
   "display_name": "base",
   "language": "python",
   "name": "python3"
  },
  "language_info": {
   "codemirror_mode": {
    "name": "ipython",
    "version": 3
   },
   "file_extension": ".py",
   "mimetype": "text/x-python",
   "name": "python",
   "nbconvert_exporter": "python",
   "pygments_lexer": "ipython3",
   "version": "3.9.2"
  }
 },
 "nbformat": 4,
 "nbformat_minor": 2
}
