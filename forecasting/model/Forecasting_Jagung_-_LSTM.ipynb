{
 "cells": [
  {
   "cell_type": "code",
   "execution_count": 9,
   "metadata": {},
   "outputs": [],
   "source": [
    "import tensorflow as tf\n",
    "import pandas as pd\n",
    "import numpy as np\n",
    "from sklearn.preprocessing import MinMaxScaler\n",
    "from tensorflow.keras.models import Sequential\n",
    "from tensorflow.keras.layers import LSTM, Dense, Bidirectional\n",
    "import matplotlib.pyplot as plt\n",
    "from sklearn.metrics import mean_absolute_percentage_error\n",
    "from keras.models import load_model"
   ]
  },
  {
   "cell_type": "code",
   "execution_count": 2,
   "metadata": {},
   "outputs": [
    {
     "name": "stdout",
     "output_type": "stream",
     "text": [
      "c:\\Users\\dprih\\OneDrive\\Dokumen\\ITS\\ITS Semester 6\\Capstone-Bangkit-ML\\forecasting\\model\n"
     ]
    }
   ],
   "source": [
    "import os\n",
    "print(os.getcwd())\n"
   ]
  },
  {
   "cell_type": "code",
   "execution_count": 3,
   "metadata": {},
   "outputs": [
    {
     "data": {
      "text/html": [
       "<div>\n",
       "<style scoped>\n",
       "    .dataframe tbody tr th:only-of-type {\n",
       "        vertical-align: middle;\n",
       "    }\n",
       "\n",
       "    .dataframe tbody tr th {\n",
       "        vertical-align: top;\n",
       "    }\n",
       "\n",
       "    .dataframe thead th {\n",
       "        text-align: right;\n",
       "    }\n",
       "</style>\n",
       "<table border=\"1\" class=\"dataframe\">\n",
       "  <thead>\n",
       "    <tr style=\"text-align: right;\">\n",
       "      <th></th>\n",
       "      <th>no</th>\n",
       "      <th>hrg</th>\n",
       "    </tr>\n",
       "    <tr>\n",
       "      <th>tanggal</th>\n",
       "      <th></th>\n",
       "      <th></th>\n",
       "    </tr>\n",
       "  </thead>\n",
       "  <tbody>\n",
       "    <tr>\n",
       "      <th>2023-01-01</th>\n",
       "      <td>0</td>\n",
       "      <td>7039.105263</td>\n",
       "    </tr>\n",
       "    <tr>\n",
       "      <th>2023-01-02</th>\n",
       "      <td>1</td>\n",
       "      <td>7061.026316</td>\n",
       "    </tr>\n",
       "    <tr>\n",
       "      <th>2023-01-03</th>\n",
       "      <td>2</td>\n",
       "      <td>7065.394737</td>\n",
       "    </tr>\n",
       "    <tr>\n",
       "      <th>2023-01-04</th>\n",
       "      <td>3</td>\n",
       "      <td>7068.684211</td>\n",
       "    </tr>\n",
       "    <tr>\n",
       "      <th>2023-01-05</th>\n",
       "      <td>4</td>\n",
       "      <td>7086.236842</td>\n",
       "    </tr>\n",
       "    <tr>\n",
       "      <th>...</th>\n",
       "      <td>...</td>\n",
       "      <td>...</td>\n",
       "    </tr>\n",
       "    <tr>\n",
       "      <th>2024-06-11</th>\n",
       "      <td>527</td>\n",
       "      <td>8153.710526</td>\n",
       "    </tr>\n",
       "    <tr>\n",
       "      <th>2024-06-12</th>\n",
       "      <td>528</td>\n",
       "      <td>8136.157895</td>\n",
       "    </tr>\n",
       "    <tr>\n",
       "      <th>2024-06-13</th>\n",
       "      <td>529</td>\n",
       "      <td>8140.526316</td>\n",
       "    </tr>\n",
       "    <tr>\n",
       "      <th>2024-06-14</th>\n",
       "      <td>530</td>\n",
       "      <td>8131.763158</td>\n",
       "    </tr>\n",
       "    <tr>\n",
       "      <th>2024-06-15</th>\n",
       "      <td>531</td>\n",
       "      <td>8128.578947</td>\n",
       "    </tr>\n",
       "  </tbody>\n",
       "</table>\n",
       "<p>532 rows × 2 columns</p>\n",
       "</div>"
      ],
      "text/plain": [
       "             no          hrg\n",
       "tanggal                     \n",
       "2023-01-01    0  7039.105263\n",
       "2023-01-02    1  7061.026316\n",
       "2023-01-03    2  7065.394737\n",
       "2023-01-04    3  7068.684211\n",
       "2023-01-05    4  7086.236842\n",
       "...         ...          ...\n",
       "2024-06-11  527  8153.710526\n",
       "2024-06-12  528  8136.157895\n",
       "2024-06-13  529  8140.526316\n",
       "2024-06-14  530  8131.763158\n",
       "2024-06-15  531  8128.578947\n",
       "\n",
       "[532 rows x 2 columns]"
      ]
     },
     "execution_count": 3,
     "metadata": {},
     "output_type": "execute_result"
    }
   ],
   "source": [
    "# Memuat data\n",
    "data = pd.read_csv(\"C:\\\\Users\\\\dprih\\\\OneDrive\\\\Dokumen\\\\ITS\\\\ITS Semester 6\\\\Capstone-Bangkit-ML\\\\scrap-data-new\\\\new-scrap-mean\\\\jagung_mean.csv\")\n",
    "data['tanggal'] = pd.to_datetime(data['tanggal'])\n",
    "data.set_index('tanggal', inplace=True)\n",
    "data"
   ]
  },
  {
   "cell_type": "code",
   "execution_count": 4,
   "metadata": {},
   "outputs": [
    {
     "data": {
      "text/html": [
       "<div>\n",
       "<style scoped>\n",
       "    .dataframe tbody tr th:only-of-type {\n",
       "        vertical-align: middle;\n",
       "    }\n",
       "\n",
       "    .dataframe tbody tr th {\n",
       "        vertical-align: top;\n",
       "    }\n",
       "\n",
       "    .dataframe thead th {\n",
       "        text-align: right;\n",
       "    }\n",
       "</style>\n",
       "<table border=\"1\" class=\"dataframe\">\n",
       "  <thead>\n",
       "    <tr style=\"text-align: right;\">\n",
       "      <th></th>\n",
       "      <th>hrg</th>\n",
       "    </tr>\n",
       "    <tr>\n",
       "      <th>tanggal</th>\n",
       "      <th></th>\n",
       "    </tr>\n",
       "  </thead>\n",
       "  <tbody>\n",
       "    <tr>\n",
       "      <th>2023-01-01</th>\n",
       "      <td>7039.105263</td>\n",
       "    </tr>\n",
       "    <tr>\n",
       "      <th>2023-01-02</th>\n",
       "      <td>7061.026316</td>\n",
       "    </tr>\n",
       "    <tr>\n",
       "      <th>2023-01-03</th>\n",
       "      <td>7065.394737</td>\n",
       "    </tr>\n",
       "    <tr>\n",
       "      <th>2023-01-04</th>\n",
       "      <td>7068.684211</td>\n",
       "    </tr>\n",
       "    <tr>\n",
       "      <th>2023-01-05</th>\n",
       "      <td>7086.236842</td>\n",
       "    </tr>\n",
       "    <tr>\n",
       "      <th>...</th>\n",
       "      <td>...</td>\n",
       "    </tr>\n",
       "    <tr>\n",
       "      <th>2024-06-11</th>\n",
       "      <td>8153.710526</td>\n",
       "    </tr>\n",
       "    <tr>\n",
       "      <th>2024-06-12</th>\n",
       "      <td>8136.157895</td>\n",
       "    </tr>\n",
       "    <tr>\n",
       "      <th>2024-06-13</th>\n",
       "      <td>8140.526316</td>\n",
       "    </tr>\n",
       "    <tr>\n",
       "      <th>2024-06-14</th>\n",
       "      <td>8131.763158</td>\n",
       "    </tr>\n",
       "    <tr>\n",
       "      <th>2024-06-15</th>\n",
       "      <td>8128.578947</td>\n",
       "    </tr>\n",
       "  </tbody>\n",
       "</table>\n",
       "<p>532 rows × 1 columns</p>\n",
       "</div>"
      ],
      "text/plain": [
       "                    hrg\n",
       "tanggal                \n",
       "2023-01-01  7039.105263\n",
       "2023-01-02  7061.026316\n",
       "2023-01-03  7065.394737\n",
       "2023-01-04  7068.684211\n",
       "2023-01-05  7086.236842\n",
       "...                 ...\n",
       "2024-06-11  8153.710526\n",
       "2024-06-12  8136.157895\n",
       "2024-06-13  8140.526316\n",
       "2024-06-14  8131.763158\n",
       "2024-06-15  8128.578947\n",
       "\n",
       "[532 rows x 1 columns]"
      ]
     },
     "execution_count": 4,
     "metadata": {},
     "output_type": "execute_result"
    }
   ],
   "source": [
    "#Drop the no \n",
    "data = data.drop(columns=['no'])\n",
    "data"
   ]
  },
  {
   "cell_type": "code",
   "execution_count": 5,
   "metadata": {},
   "outputs": [],
   "source": [
    "# Menormalisasi data harga\n",
    "scaler = MinMaxScaler(feature_range=(0, 1))\n",
    "data['hrg'] = scaler.fit_transform(data['hrg'].values.reshape(-1,1))"
   ]
  },
  {
   "cell_type": "code",
   "execution_count": 6,
   "metadata": {},
   "outputs": [],
   "source": [
    "# Membuat dataset untuk LSTM\n",
    "def create_dataset(dataset, time_step=1):\n",
    "    dataX, dataY = [], []\n",
    "    for i in range(len(dataset)-time_step-1):\n",
    "        a = dataset[i:(i+time_step), 0]\n",
    "        dataX.append(a)\n",
    "        dataY.append(dataset[i + time_step, 0])\n",
    "    return np.array(dataX), np.array(dataY)"
   ]
  },
  {
   "cell_type": "code",
   "execution_count": 7,
   "metadata": {},
   "outputs": [],
   "source": [
    "# Parameter\n",
    "time_step = 10"
   ]
  },
  {
   "cell_type": "code",
   "execution_count": 8,
   "metadata": {},
   "outputs": [],
   "source": [
    "# Membagi data menjadi train dan test\n",
    "train_size = int(len(data) * 0.8)\n",
    "test_size = len(data) - train_size\n",
    "train, test = data[0:train_size], data[train_size:len(data)]"
   ]
  },
  {
   "cell_type": "code",
   "execution_count": 9,
   "metadata": {},
   "outputs": [],
   "source": [
    "# Membuat dataset untuk train dan test\n",
    "trainX, trainY = create_dataset(train.values, time_step)\n",
    "testX, testY = create_dataset(test.values, time_step)"
   ]
  },
  {
   "cell_type": "code",
   "execution_count": 10,
   "metadata": {},
   "outputs": [],
   "source": [
    "# Mengubah input menjadi [samples, time steps, features]\n",
    "trainX = trainX.reshape(trainX.shape[0], trainX.shape[1], 1)\n",
    "testX = testX.reshape(testX.shape[0], testX.shape[1], 1)"
   ]
  },
  {
   "cell_type": "code",
   "execution_count": 11,
   "metadata": {},
   "outputs": [
    {
     "name": "stdout",
     "output_type": "stream",
     "text": [
      "Model: \"sequential\"\n",
      "_________________________________________________________________\n",
      " Layer (type)                Output Shape              Param #   \n",
      "=================================================================\n",
      " lstm (LSTM)                 (None, 10, 50)            10400     \n",
      "                                                                 \n",
      " lstm_1 (LSTM)               (None, 50)                20200     \n",
      "                                                                 \n",
      " dense (Dense)               (None, 25)                1275      \n",
      "                                                                 \n",
      " dense_1 (Dense)             (None, 1)                 26        \n",
      "                                                                 \n",
      "=================================================================\n",
      "Total params: 31,901\n",
      "Trainable params: 31,901\n",
      "Non-trainable params: 0\n",
      "_________________________________________________________________\n"
     ]
    }
   ],
   "source": [
    "# Membangun model LSTM\n",
    "model = Sequential()\n",
    "model.add(LSTM(50, return_sequences=True, input_shape=(time_step, 1)))\n",
    "model.add(LSTM(50, return_sequences=False))\n",
    "model.add(Dense(25))\n",
    "model.add(Dense(1))\n",
    "\n",
    "# Menampilkan ringkasan model\n",
    "model.summary()"
   ]
  },
  {
   "cell_type": "code",
   "execution_count": 12,
   "metadata": {},
   "outputs": [
    {
     "name": "stdout",
     "output_type": "stream",
     "text": [
      "Epoch 1/20\n",
      "414/414 [==============================] - 9s 9ms/step - loss: 0.0044\n",
      "Epoch 2/20\n",
      "414/414 [==============================] - 3s 7ms/step - loss: 2.9818e-04\n",
      "Epoch 3/20\n",
      "414/414 [==============================] - 3s 7ms/step - loss: 2.5869e-04\n",
      "Epoch 4/20\n",
      "414/414 [==============================] - 3s 7ms/step - loss: 2.7139e-04\n",
      "Epoch 5/20\n",
      "414/414 [==============================] - 3s 7ms/step - loss: 2.6381e-04\n",
      "Epoch 6/20\n",
      "414/414 [==============================] - 3s 7ms/step - loss: 2.8509e-04\n",
      "Epoch 7/20\n",
      "414/414 [==============================] - 3s 7ms/step - loss: 2.5221e-04\n",
      "Epoch 8/20\n",
      "414/414 [==============================] - 3s 7ms/step - loss: 2.4146e-04\n",
      "Epoch 9/20\n",
      "414/414 [==============================] - 3s 7ms/step - loss: 2.5174e-04\n",
      "Epoch 10/20\n",
      "414/414 [==============================] - 3s 7ms/step - loss: 2.6808e-04\n",
      "Epoch 11/20\n",
      "414/414 [==============================] - 3s 7ms/step - loss: 3.1201e-04\n",
      "Epoch 12/20\n",
      "414/414 [==============================] - 3s 7ms/step - loss: 2.7516e-04\n",
      "Epoch 13/20\n",
      "414/414 [==============================] - 3s 7ms/step - loss: 2.4623e-04\n",
      "Epoch 14/20\n",
      "414/414 [==============================] - 3s 7ms/step - loss: 2.6820e-04\n",
      "Epoch 15/20\n",
      "414/414 [==============================] - 3s 7ms/step - loss: 2.6897e-04\n",
      "Epoch 16/20\n",
      "414/414 [==============================] - 3s 7ms/step - loss: 2.7091e-04\n",
      "Epoch 17/20\n",
      "414/414 [==============================] - 3s 7ms/step - loss: 2.8840e-04\n",
      "Epoch 18/20\n",
      "414/414 [==============================] - 3s 7ms/step - loss: 2.4001e-04\n",
      "Epoch 19/20\n",
      "414/414 [==============================] - 3s 7ms/step - loss: 2.6342e-04\n",
      "Epoch 20/20\n",
      "414/414 [==============================] - 3s 7ms/step - loss: 2.2434e-04\n"
     ]
    },
    {
     "data": {
      "text/plain": [
       "<keras.callbacks.History at 0x1e6b94067f0>"
      ]
     },
     "execution_count": 12,
     "metadata": {},
     "output_type": "execute_result"
    }
   ],
   "source": [
    "# Compile model\n",
    "model.compile(optimizer=tf.keras.optimizers.SGD(momentum=0.9), loss=tf.keras.losses.Huber())\n",
    "\n",
    "# Melatih model\n",
    "model.fit(trainX, trainY, batch_size=1, epochs=20)"
   ]
  },
  {
   "cell_type": "code",
   "execution_count": 13,
   "metadata": {},
   "outputs": [
    {
     "name": "stdout",
     "output_type": "stream",
     "text": [
      "13/13 [==============================] - 1s 4ms/step\n",
      "3/3 [==============================] - 0s 5ms/step\n"
     ]
    }
   ],
   "source": [
    "# Melakukan prediksi\n",
    "train_predict = model.predict(trainX)\n",
    "test_predict = model.predict(testX)"
   ]
  },
  {
   "cell_type": "code",
   "execution_count": 14,
   "metadata": {},
   "outputs": [],
   "source": [
    "# Mengembalikan harga ke skala semula\n",
    "train_predict = scaler.inverse_transform(train_predict)\n",
    "test_predict = scaler.inverse_transform(test_predict)\n",
    "trainY = scaler.inverse_transform(trainY.reshape(-1, 1))\n",
    "testY = scaler.inverse_transform(testY.reshape(-1, 1))"
   ]
  },
  {
   "cell_type": "code",
   "execution_count": 15,
   "metadata": {},
   "outputs": [
    {
     "name": "stdout",
     "output_type": "stream",
     "text": [
      "MAPE Train: 0.32279638708225405%\n",
      "MAPE Test: 1.492189855754686%\n"
     ]
    }
   ],
   "source": [
    "# Menghitung MAPE untuk train dan test\n",
    "mape_train = mean_absolute_percentage_error(trainY, train_predict) * 100\n",
    "mape_test = mean_absolute_percentage_error(testY, test_predict) * 100\n",
    "\n",
    "print(f\"MAPE Train: {mape_train}%\")\n",
    "print(f\"MAPE Test: {mape_test}%\")"
   ]
  },
  {
   "cell_type": "code",
   "execution_count": 16,
   "metadata": {},
   "outputs": [
    {
     "name": "stdout",
     "output_type": "stream",
     "text": [
      "Hasil Prediksi Train:\n",
      "             harga_asli  harga_prediksi\n",
      "tanggal                                \n",
      "2023-01-11  7086.052632     7087.361328\n",
      "2023-01-12  7099.210526     7092.980957\n",
      "2023-01-13  7118.500000     7096.726562\n",
      "2023-01-14  7122.868421     7101.129395\n",
      "2023-01-15  7118.921053     7106.055176\n",
      "Hasil Prediksi Test:\n",
      "             harga_asli  harga_prediksi\n",
      "tanggal                                \n",
      "2024-03-11  8610.157895     8832.412109\n",
      "2024-03-12  8627.710526     8806.749023\n",
      "2024-03-13  8601.368421     8783.506836\n",
      "2024-03-14  8612.315789     8759.251953\n",
      "2024-03-15  8594.552632     8739.443359\n"
     ]
    }
   ],
   "source": [
    "\n",
    "# Membuat dataframe untuk hasil prediksi train\n",
    "train_predict_df = pd.DataFrame({\n",
    "    'tanggal': data.index[time_step:len(train_predict) + time_step],\n",
    "    'harga_asli': trainY.flatten(),\n",
    "    'harga_prediksi': train_predict.flatten()\n",
    "})\n",
    "train_predict_df.set_index('tanggal', inplace=True)\n",
    "\n",
    "# Membuat dataframe untuk hasil prediksi test\n",
    "test_predict_df = pd.DataFrame({\n",
    "    'tanggal': data.index[len(train_predict) + (time_step * 2) + 1:len(data) - 1],\n",
    "    'harga_asli': testY.flatten(),\n",
    "    'harga_prediksi': test_predict.flatten()\n",
    "})\n",
    "test_predict_df.set_index('tanggal', inplace=True)\n",
    "\n",
    "# Menampilkan hasil prediksi train\n",
    "print(\"Hasil Prediksi Train:\")\n",
    "print(train_predict_df.head())\n",
    "\n",
    "# Menampilkan hasil prediksi test\n",
    "print(\"Hasil Prediksi Test:\")\n",
    "print(test_predict_df.head())"
   ]
  },
  {
   "cell_type": "code",
   "execution_count": 17,
   "metadata": {},
   "outputs": [
    {
     "name": "stdout",
     "output_type": "stream",
     "text": [
      "1/1 [==============================] - 0s 27ms/step\n",
      "1/1 [==============================] - 0s 31ms/step\n"
     ]
    },
    {
     "name": "stdout",
     "output_type": "stream",
     "text": [
      "1/1 [==============================] - 0s 73ms/step\n",
      "1/1 [==============================] - 0s 20ms/step\n",
      "1/1 [==============================] - 0s 25ms/step\n",
      "1/1 [==============================] - 0s 21ms/step\n",
      "1/1 [==============================] - 0s 24ms/step\n",
      "1/1 [==============================] - 0s 23ms/step\n",
      "1/1 [==============================] - 0s 20ms/step\n",
      "1/1 [==============================] - 0s 23ms/step\n",
      "1/1 [==============================] - 0s 23ms/step\n",
      "1/1 [==============================] - 0s 22ms/step\n",
      "1/1 [==============================] - 0s 22ms/step\n",
      "1/1 [==============================] - 0s 21ms/step\n",
      "1/1 [==============================] - 0s 20ms/step\n",
      "1/1 [==============================] - 0s 20ms/step\n",
      "1/1 [==============================] - 0s 20ms/step\n",
      "1/1 [==============================] - 0s 20ms/step\n",
      "1/1 [==============================] - 0s 19ms/step\n",
      "1/1 [==============================] - 0s 28ms/step\n",
      "1/1 [==============================] - 0s 21ms/step\n",
      "1/1 [==============================] - 0s 23ms/step\n",
      "1/1 [==============================] - 0s 21ms/step\n",
      "1/1 [==============================] - 0s 23ms/step\n",
      "1/1 [==============================] - 0s 21ms/step\n",
      "1/1 [==============================] - 0s 23ms/step\n",
      "1/1 [==============================] - 0s 21ms/step\n",
      "1/1 [==============================] - 0s 22ms/step\n",
      "1/1 [==============================] - 0s 21ms/step\n",
      "1/1 [==============================] - 0s 21ms/step\n",
      "Hasil Prediksi Masa Depan:\n",
      "            harga_prediksi\n",
      "tanggal                   \n",
      "2024-06-16     8238.973633\n",
      "2024-06-17     8242.474609\n",
      "2024-06-18     8249.456055\n",
      "2024-06-19     8258.873047\n",
      "2024-06-20     8270.649414\n"
     ]
    }
   ],
   "source": [
    "# Prediksi harga masa depan\n",
    "future_steps = 30  # jumlah langkah ke depan yang ingin diprediksi\n",
    "last_sequence = data.values[-time_step:]  # ambil urutan terakhir dari data\n",
    "\n",
    "future_predictions = []\n",
    "\n",
    "for _ in range(future_steps):\n",
    "    # Ubah bentuk input menjadi [samples, time steps, features]\n",
    "    input_sequence = last_sequence.reshape((1, time_step, 1))\n",
    "    next_prediction = model.predict(input_sequence)\n",
    "    future_predictions.append(next_prediction[0, 0])\n",
    "    \n",
    "    # Perbarui urutan terakhir dengan menggeser ke kiri dan menambahkan prediksi terbaru\n",
    "    last_sequence = np.append(last_sequence[1:], next_prediction)[-time_step:]\n",
    "\n",
    "# Mengembalikan harga ke skala semula untuk prediksi masa depan\n",
    "future_predictions = scaler.inverse_transform(np.array(future_predictions).reshape(-1, 1))\n",
    "\n",
    "# Membuat tanggal untuk prediksi masa depan\n",
    "last_date = data.index[-1]\n",
    "future_dates = pd.date_range(start=last_date, periods=future_steps + 1, inclusive='right')\n",
    "\n",
    "# Membuat dataframe untuk hasil prediksi masa depan\n",
    "future_predict_df = pd.DataFrame({\n",
    "    'tanggal': future_dates,\n",
    "    'harga_prediksi': future_predictions.flatten()\n",
    "})\n",
    "future_predict_df.set_index('tanggal', inplace=True)\n",
    "\n",
    "# Menampilkan hasil prediksi masa depan\n",
    "print(\"Hasil Prediksi Masa Depan:\")\n",
    "print(future_predict_df.head())"
   ]
  },
  {
   "cell_type": "code",
   "execution_count": 18,
   "metadata": {},
   "outputs": [
    {
     "data": {
      "image/png": "[encoded data removed]",
      "text/plain": [
       "<Figure size 1600x800 with 1 Axes>"
      ]
     },
     "metadata": {},
     "output_type": "display_data"
    }
   ],
   "source": [
    "# Visualisasi hasil\n",
    "plt.figure(figsize=(16,8))\n",
    "plt.plot(data.index, scaler.inverse_transform(data['hrg'].values.reshape(-1, 1)), label='Harga Asli')\n",
    "plt.plot(data.index[time_step:len(train_predict) + time_step], train_predict, label='Prediksi Train')\n",
    "plt.plot(data.index[len(train_predict) + (time_step * 2) + 1:len(data) - 1], test_predict, label='Prediksi Test')\n",
    "plt.plot(future_predict_df.index, future_predict_df['harga_prediksi'], label='Prediksi Masa Depan')\n",
    "plt.xlabel('Tanggal')\n",
    "plt.ylabel('Harga')\n",
    "plt.legend()\n",
    "plt.show()"
   ]
  },
  {
   "cell_type": "markdown",
   "metadata": {},
   "source": [
    "## Saving the Model in Different Formats:\n",
    "- Pickle"
   ]
  },
  {
   "cell_type": "code",
   "execution_count": 19,
   "metadata": {},
   "outputs": [],
   "source": [
    "# import pickle\n",
    "\n",
    "# # Save the model using Pickle\n",
    "# with open('jagung_forecasting.pkl', 'wb') as file:\n",
    "#     pickle.dump(model, file)\n",
    "\n",
    "# # Load the model using Pickle\n",
    "# with open('jagung_forecasting.pkl', 'rb') as file:\n",
    "#     loaded_model_pickle = pickle.load(file)"
   ]
  },
  {
   "cell_type": "markdown",
   "metadata": {},
   "source": [
    "- H5"
   ]
  },
  {
   "cell_type": "code",
   "execution_count": 20,
   "metadata": {},
   "outputs": [],
   "source": [
    "# Save the model using H5 format\n",
    "model.save('jagung_forecasting.h5')\n",
    "\n",
    "# Load the model using H5 format\n",
    "from tensorflow.keras.models import load_model\n",
    "loaded_model_h5 = load_model('jagung_forecasting.h5')"
   ]
  },
  {
   "cell_type": "markdown",
   "metadata": {},
   "source": [
    "- TensorFlow Saved Model"
   ]
  },
  {
   "cell_type": "code",
   "execution_count": 21,
   "metadata": {},
   "outputs": [],
   "source": [
    "# # Save the model using TensorFlow SavedModel format\n",
    "# model.save('saved_model/jagung_forecasting')\n",
    "\n",
    "# # Load the model using TensorFlow SavedModel format\n",
    "# loaded_model_saved = tf.keras.models.load_model('saved_model/jagung_forecasting')"
   ]
  },
  {
   "cell_type": "markdown",
   "metadata": {},
   "source": [
    "- TensorFlow Lite"
   ]
  },
  {
   "cell_type": "code",
   "execution_count": 22,
   "metadata": {},
   "outputs": [],
   "source": [
    "# # Convert the model to TensorFlow Lite format\n",
    "# converter = tf.lite.TFLiteConverter.from_keras_model(model)\n",
    "# tflite_model = converter.convert()\n",
    "\n",
    "# # Save the TensorFlow Lite model\n",
    "# with open('jagung_forecasting.tflite', 'wb') as file:\n",
    "#     file.write(tflite_model)\n",
    "\n",
    "# # Load the TensorFlow Lite model (for inference, not training)\n",
    "# interpreter = tf.lite.Interpreter(model_path='jagung_forecasting.tflite')\n",
    "# interpreter.allocate_tensors()\n",
    "\n",
    "# # Getting input and output tensors\n",
    "# input_details = interpreter.get_input_details()\n",
    "# output_details = interpreter.get_output_details()"
   ]
  },
  {
   "cell_type": "markdown",
   "metadata": {},
   "source": [
    "## Testing model with another input V2"
   ]
  },
  {
   "cell_type": "code",
   "execution_count": 10,
   "metadata": {},
   "outputs": [
    {
     "data": {
      "text/html": [
       "<div>\n",
       "<style scoped>\n",
       "    .dataframe tbody tr th:only-of-type {\n",
       "        vertical-align: middle;\n",
       "    }\n",
       "\n",
       "    .dataframe tbody tr th {\n",
       "        vertical-align: top;\n",
       "    }\n",
       "\n",
       "    .dataframe thead th {\n",
       "        text-align: right;\n",
       "    }\n",
       "</style>\n",
       "<table border=\"1\" class=\"dataframe\">\n",
       "  <thead>\n",
       "    <tr style=\"text-align: right;\">\n",
       "      <th></th>\n",
       "      <th>hrg</th>\n",
       "    </tr>\n",
       "    <tr>\n",
       "      <th>tanggal</th>\n",
       "      <th></th>\n",
       "    </tr>\n",
       "  </thead>\n",
       "  <tbody>\n",
       "    <tr>\n",
       "      <th>2023-01-01</th>\n",
       "      <td>7039.105263</td>\n",
       "    </tr>\n",
       "    <tr>\n",
       "      <th>2023-01-02</th>\n",
       "      <td>7061.026316</td>\n",
       "    </tr>\n",
       "    <tr>\n",
       "      <th>2023-01-03</th>\n",
       "      <td>7065.394737</td>\n",
       "    </tr>\n",
       "    <tr>\n",
       "      <th>2023-01-04</th>\n",
       "      <td>7068.684211</td>\n",
       "    </tr>\n",
       "    <tr>\n",
       "      <th>2023-01-05</th>\n",
       "      <td>7086.236842</td>\n",
       "    </tr>\n",
       "    <tr>\n",
       "      <th>...</th>\n",
       "      <td>...</td>\n",
       "    </tr>\n",
       "    <tr>\n",
       "      <th>2024-06-11</th>\n",
       "      <td>8153.710526</td>\n",
       "    </tr>\n",
       "    <tr>\n",
       "      <th>2024-06-12</th>\n",
       "      <td>8136.157895</td>\n",
       "    </tr>\n",
       "    <tr>\n",
       "      <th>2024-06-13</th>\n",
       "      <td>8140.526316</td>\n",
       "    </tr>\n",
       "    <tr>\n",
       "      <th>2024-06-14</th>\n",
       "      <td>8131.763158</td>\n",
       "    </tr>\n",
       "    <tr>\n",
       "      <th>2024-06-15</th>\n",
       "      <td>8128.578947</td>\n",
       "    </tr>\n",
       "  </tbody>\n",
       "</table>\n",
       "<p>532 rows × 1 columns</p>\n",
       "</div>"
      ],
      "text/plain": [
       "                    hrg\n",
       "tanggal                \n",
       "2023-01-01  7039.105263\n",
       "2023-01-02  7061.026316\n",
       "2023-01-03  7065.394737\n",
       "2023-01-04  7068.684211\n",
       "2023-01-05  7086.236842\n",
       "...                 ...\n",
       "2024-06-11  8153.710526\n",
       "2024-06-12  8136.157895\n",
       "2024-06-13  8140.526316\n",
       "2024-06-14  8131.763158\n",
       "2024-06-15  8128.578947\n",
       "\n",
       "[532 rows x 1 columns]"
      ]
     },
     "execution_count": 10,
     "metadata": {},
     "output_type": "execute_result"
    }
   ],
   "source": [
    "# Memuat data\n",
    "data = pd.read_csv(\"C:\\\\Users\\\\dprih\\\\OneDrive\\\\Dokumen\\\\ITS\\\\ITS Semester 6\\\\Capstone-Bangkit-ML\\\\scrap-data-new\\\\new-scrap-mean\\\\jagung_mean.csv\")\n",
    "data['tanggal'] = pd.to_datetime(data['tanggal'])\n",
    "data.set_index('tanggal', inplace=True)\n",
    "data = data.drop(columns=['no'])\n",
    "data"
   ]
  },
  {
   "cell_type": "code",
   "execution_count": 11,
   "metadata": {},
   "outputs": [],
   "source": [
    "model = load_model('jagung_forecasting.h5')\n",
    "time_step=10"
   ]
  },
  {
   "cell_type": "code",
   "execution_count": 12,
   "metadata": {},
   "outputs": [],
   "source": [
    "# Create a new MinMaxScaler\n",
    "scaler = MinMaxScaler(feature_range=(0, 1))\n",
    "\n",
    "# Fit the scaler with the original data\n",
    "# scaler.fit(data)\n",
    "data['hrg'] = scaler.fit_transform(data['hrg'].values.reshape(-1,1))"
   ]
  },
  {
   "cell_type": "code",
   "execution_count": 13,
   "metadata": {},
   "outputs": [
    {
     "name": "stdout",
     "output_type": "stream",
     "text": [
      "1/1 [==============================] - 6s 6s/step\n",
      "1/1 [==============================] - 0s 45ms/step\n",
      "1/1 [==============================] - 0s 40ms/step\n",
      "Predicted price for 2024-06-18: 8249.4560546875\n"
     ]
    }
   ],
   "source": [
    "# Assumptions (since they were not provided in the original code)\n",
    "# model, data, time_step, and scaler should be already defined in your environment\n",
    "\n",
    "# Ask the user for the future date\n",
    "future_date_str = input(\"Enter the future date to predict (YYYY-MM-DD): \")\n",
    "future_date = pd.to_datetime(future_date_str)\n",
    "\n",
    "# Calculate the number of future steps\n",
    "last_date = data.index[-1]\n",
    "future_steps = (future_date - last_date).days\n",
    "\n",
    "if future_steps <= 0:\n",
    "    raise ValueError(\"The future date must be later than the last date in the dataset.\")\n",
    "\n",
    "# Extract the last sequence from the data\n",
    "last_sequence = data.values[-time_step:]  # Assumes `data` is a pandas DataFrame\n",
    "\n",
    "# Generate predictions for the specified future steps\n",
    "for _ in range(future_steps):\n",
    "    # Reshape the input to [samples, time steps, features]\n",
    "    input_sequence = last_sequence.reshape((1, time_step, 1))\n",
    "    next_prediction = model.predict(input_sequence)\n",
    "    \n",
    "    # Update the last sequence by shifting left and adding the latest prediction\n",
    "    last_sequence = np.append(last_sequence[1:], next_prediction)[-time_step:]\n",
    "\n",
    "# Rescale the final prediction back to the original scale\n",
    "final_prediction = scaler.inverse_transform(np.array(next_prediction).reshape(-1, 1))\n",
    "\n",
    "# Display the final prediction\n",
    "print(f\"Predicted price for {future_date_str}: {final_prediction[0, 0]}\")\n"
   ]
  },
  {
   "cell_type": "code",
   "execution_count": null,
   "metadata": {},
   "outputs": [],
   "source": []
  }
 ],
 "metadata": {
  "kernelspec": {
   "display_name": "base",
   "language": "python",
   "name": "python3"
  },
  "language_info": {
   "codemirror_mode": {
    "name": "ipython",
    "version": 3
   },
   "file_extension": ".py",
   "mimetype": "text/x-python",
   "name": "python",
   "nbconvert_exporter": "python",
   "pygments_lexer": "ipython3",
   "version": "3.9.2"
  }
 },
 "nbformat": 4,
 "nbformat_minor": 2
}
