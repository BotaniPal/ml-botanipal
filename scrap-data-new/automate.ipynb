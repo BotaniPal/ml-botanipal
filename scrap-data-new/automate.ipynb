{
 "cells": [
  {
   "cell_type": "code",
   "execution_count": 1,
   "metadata": {},
   "outputs": [
    {
     "name": "stdout",
     "output_type": "stream",
     "text": [
      "Requirement already satisfied: requests in c:\\users\\dprih\\onedrive\\dokumen\\its\\its semester 6\\capstone-bangkit-ml\\venv\\lib\\site-packages (2.32.3)\n",
      "Requirement already satisfied: charset-normalizer<4,>=2 in c:\\users\\dprih\\onedrive\\dokumen\\its\\its semester 6\\capstone-bangkit-ml\\venv\\lib\\site-packages (from requests) (3.3.2)\n",
      "Requirement already satisfied: idna<4,>=2.5 in c:\\users\\dprih\\onedrive\\dokumen\\its\\its semester 6\\capstone-bangkit-ml\\venv\\lib\\site-packages (from requests) (3.7)\n",
      "Requirement already satisfied: urllib3<3,>=1.21.1 in c:\\users\\dprih\\onedrive\\dokumen\\its\\its semester 6\\capstone-bangkit-ml\\venv\\lib\\site-packages (from requests) (2.2.1)\n",
      "Requirement already satisfied: certifi>=2017.4.17 in c:\\users\\dprih\\onedrive\\dokumen\\its\\its semester 6\\capstone-bangkit-ml\\venv\\lib\\site-packages (from requests) (2024.6.2)\n",
      "Note: you may need to restart the kernel to use updated packages.\n",
      "Requirement already satisfied: beautifulsoup4 in c:\\users\\dprih\\onedrive\\dokumen\\its\\its semester 6\\capstone-bangkit-ml\\venv\\lib\\site-packages (4.12.3)\n",
      "Requirement already satisfied: soupsieve>1.2 in c:\\users\\dprih\\onedrive\\dokumen\\its\\its semester 6\\capstone-bangkit-ml\\venv\\lib\\site-packages (from beautifulsoup4) (2.5)\n",
      "Note: you may need to restart the kernel to use updated packages.\n"
     ]
    }
   ],
   "source": [
    "%pip install requests\n",
    "%pip install beautifulsoup4"
   ]
  },
  {
   "cell_type": "code",
   "execution_count": 3,
   "metadata": {},
   "outputs": [],
   "source": [
    "import requests\n",
    "import csv\n",
    "import json\n",
    "import pandas as pd\n",
    "from datetime import datetime, timedelta\n"
   ]
  },
  {
   "cell_type": "code",
   "execution_count": null,
   "metadata": {},
   "outputs": [],
   "source": [
    "commodity_key_value = {\"cabe_rawit_merah\": \"50\", \"bawang_merah\":\"39\",\"jagung\":\"25\",\"kacang_tanah\":\"42\",\"kedelai_lokal\":\"33\",\"kentang\":\"45\",\"kol\":\"44\",\"tomat\":\"46\"}"
   ]
  },
  {
   "cell_type": "code",
   "execution_count": 8,
   "metadata": {},
   "outputs": [
    {
     "name": "stdout",
     "output_type": "stream",
     "text": [
      "Data retrieved for 2024-06-15 successfully.\n",
      "Data for 2024-06-15 saved to 'cabe_rawit_merah_new_fix.csv'.\n",
      "Data retrieved for 2024-06-16 successfully.\n"
     ]
    },
    {
     "ename": "JSONDecodeError",
     "evalue": "Expecting value: line 1 column 5 (char 4)",
     "output_type": "error",
     "traceback": [
      "\u001b[1;31m---------------------------------------------------------------------------\u001b[0m",
      "\u001b[1;31mJSONDecodeError\u001b[0m                           Traceback (most recent call last)",
      "Cell \u001b[1;32mIn[8], line 94\u001b[0m\n\u001b[0;32m     92\u001b[0m     \u001b[38;5;28mprint\u001b[39m(\u001b[38;5;124mf\u001b[39m\u001b[38;5;124m\"\u001b[39m\u001b[38;5;124mData retrieved for \u001b[39m\u001b[38;5;132;01m{\u001b[39;00mtanggal\u001b[38;5;132;01m}\u001b[39;00m\u001b[38;5;124m successfully.\u001b[39m\u001b[38;5;124m\"\u001b[39m)\n\u001b[0;32m     93\u001b[0m     \u001b[38;5;66;03m# Menyimpan data ke file CSV\u001b[39;00m\n\u001b[1;32m---> 94\u001b[0m     \u001b[43msave_to_csv\u001b[49m\u001b[43m(\u001b[49m\u001b[43mdata\u001b[49m\u001b[43m,\u001b[49m\u001b[43m \u001b[49m\u001b[43mtanggal\u001b[49m\u001b[43m,\u001b[49m\u001b[43m \u001b[49m\u001b[38;5;124;43mf\u001b[39;49m\u001b[38;5;124;43m'\u001b[39;49m\u001b[38;5;132;43;01m{\u001b[39;49;00m\u001b[43mcommodity_name\u001b[49m\u001b[38;5;132;43;01m}\u001b[39;49;00m\u001b[38;5;124;43m.csv\u001b[39;49m\u001b[38;5;124;43m'\u001b[39;49m\u001b[43m)\u001b[49m\n\u001b[0;32m     95\u001b[0m     \u001b[38;5;28mprint\u001b[39m(\u001b[38;5;124mf\u001b[39m\u001b[38;5;124m\"\u001b[39m\u001b[38;5;124mData for \u001b[39m\u001b[38;5;132;01m{\u001b[39;00mtanggal\u001b[38;5;132;01m}\u001b[39;00m\u001b[38;5;124m saved to \u001b[39m\u001b[38;5;124m'\u001b[39m\u001b[38;5;132;01m{\u001b[39;00mcommodity_name\u001b[38;5;132;01m}\u001b[39;00m\u001b[38;5;124m.csv\u001b[39m\u001b[38;5;124m'\u001b[39m\u001b[38;5;124m.\u001b[39m\u001b[38;5;124m\"\u001b[39m)\n\u001b[0;32m     96\u001b[0m start_date \u001b[38;5;241m+\u001b[39m\u001b[38;5;241m=\u001b[39m timedelta(days\u001b[38;5;241m=\u001b[39m\u001b[38;5;241m1\u001b[39m)  \u001b[38;5;66;03m# Pindah ke tanggal berikutnya\u001b[39;00m\n",
      "Cell \u001b[1;32mIn[8], line 64\u001b[0m, in \u001b[0;36msave_to_csv\u001b[1;34m(data, date, filename)\u001b[0m\n\u001b[0;32m     62\u001b[0m writer \u001b[38;5;241m=\u001b[39m csv\u001b[38;5;241m.\u001b[39mwriter(csvfile)\n\u001b[0;32m     63\u001b[0m \u001b[38;5;66;03m# Parsing data sebagai JSON\u001b[39;00m\n\u001b[1;32m---> 64\u001b[0m json_data \u001b[38;5;241m=\u001b[39m \u001b[43mjson\u001b[49m\u001b[38;5;241;43m.\u001b[39;49m\u001b[43mloads\u001b[49m\u001b[43m(\u001b[49m\u001b[43mdata\u001b[49m\u001b[43m)\u001b[49m\n\u001b[0;32m     65\u001b[0m \u001b[38;5;66;03m# Menulis header jika file CSV kosong\u001b[39;00m\n\u001b[0;32m     66\u001b[0m \u001b[38;5;28;01mif\u001b[39;00m csvfile\u001b[38;5;241m.\u001b[39mtell() \u001b[38;5;241m==\u001b[39m \u001b[38;5;241m0\u001b[39m:\n",
      "File \u001b[1;32m~\\AppData\\Local\\Programs\\Python\\Python311\\Lib\\json\\__init__.py:346\u001b[0m, in \u001b[0;36mloads\u001b[1;34m(s, cls, object_hook, parse_float, parse_int, parse_constant, object_pairs_hook, **kw)\u001b[0m\n\u001b[0;32m    341\u001b[0m     s \u001b[38;5;241m=\u001b[39m s\u001b[38;5;241m.\u001b[39mdecode(detect_encoding(s), \u001b[38;5;124m'\u001b[39m\u001b[38;5;124msurrogatepass\u001b[39m\u001b[38;5;124m'\u001b[39m)\n\u001b[0;32m    343\u001b[0m \u001b[38;5;28;01mif\u001b[39;00m (\u001b[38;5;28mcls\u001b[39m \u001b[38;5;129;01mis\u001b[39;00m \u001b[38;5;28;01mNone\u001b[39;00m \u001b[38;5;129;01mand\u001b[39;00m object_hook \u001b[38;5;129;01mis\u001b[39;00m \u001b[38;5;28;01mNone\u001b[39;00m \u001b[38;5;129;01mand\u001b[39;00m\n\u001b[0;32m    344\u001b[0m         parse_int \u001b[38;5;129;01mis\u001b[39;00m \u001b[38;5;28;01mNone\u001b[39;00m \u001b[38;5;129;01mand\u001b[39;00m parse_float \u001b[38;5;129;01mis\u001b[39;00m \u001b[38;5;28;01mNone\u001b[39;00m \u001b[38;5;129;01mand\u001b[39;00m\n\u001b[0;32m    345\u001b[0m         parse_constant \u001b[38;5;129;01mis\u001b[39;00m \u001b[38;5;28;01mNone\u001b[39;00m \u001b[38;5;129;01mand\u001b[39;00m object_pairs_hook \u001b[38;5;129;01mis\u001b[39;00m \u001b[38;5;28;01mNone\u001b[39;00m \u001b[38;5;129;01mand\u001b[39;00m \u001b[38;5;129;01mnot\u001b[39;00m kw):\n\u001b[1;32m--> 346\u001b[0m     \u001b[38;5;28;01mreturn\u001b[39;00m \u001b[43m_default_decoder\u001b[49m\u001b[38;5;241;43m.\u001b[39;49m\u001b[43mdecode\u001b[49m\u001b[43m(\u001b[49m\u001b[43ms\u001b[49m\u001b[43m)\u001b[49m\n\u001b[0;32m    347\u001b[0m \u001b[38;5;28;01mif\u001b[39;00m \u001b[38;5;28mcls\u001b[39m \u001b[38;5;129;01mis\u001b[39;00m \u001b[38;5;28;01mNone\u001b[39;00m:\n\u001b[0;32m    348\u001b[0m     \u001b[38;5;28mcls\u001b[39m \u001b[38;5;241m=\u001b[39m JSONDecoder\n",
      "File \u001b[1;32m~\\AppData\\Local\\Programs\\Python\\Python311\\Lib\\json\\decoder.py:337\u001b[0m, in \u001b[0;36mJSONDecoder.decode\u001b[1;34m(self, s, _w)\u001b[0m\n\u001b[0;32m    332\u001b[0m \u001b[38;5;28;01mdef\u001b[39;00m \u001b[38;5;21mdecode\u001b[39m(\u001b[38;5;28mself\u001b[39m, s, _w\u001b[38;5;241m=\u001b[39mWHITESPACE\u001b[38;5;241m.\u001b[39mmatch):\n\u001b[0;32m    333\u001b[0m \u001b[38;5;250m    \u001b[39m\u001b[38;5;124;03m\"\"\"Return the Python representation of ``s`` (a ``str`` instance\u001b[39;00m\n\u001b[0;32m    334\u001b[0m \u001b[38;5;124;03m    containing a JSON document).\u001b[39;00m\n\u001b[0;32m    335\u001b[0m \n\u001b[0;32m    336\u001b[0m \u001b[38;5;124;03m    \"\"\"\u001b[39;00m\n\u001b[1;32m--> 337\u001b[0m     obj, end \u001b[38;5;241m=\u001b[39m \u001b[38;5;28;43mself\u001b[39;49m\u001b[38;5;241;43m.\u001b[39;49m\u001b[43mraw_decode\u001b[49m\u001b[43m(\u001b[49m\u001b[43ms\u001b[49m\u001b[43m,\u001b[49m\u001b[43m \u001b[49m\u001b[43midx\u001b[49m\u001b[38;5;241;43m=\u001b[39;49m\u001b[43m_w\u001b[49m\u001b[43m(\u001b[49m\u001b[43ms\u001b[49m\u001b[43m,\u001b[49m\u001b[43m \u001b[49m\u001b[38;5;241;43m0\u001b[39;49m\u001b[43m)\u001b[49m\u001b[38;5;241;43m.\u001b[39;49m\u001b[43mend\u001b[49m\u001b[43m(\u001b[49m\u001b[43m)\u001b[49m\u001b[43m)\u001b[49m\n\u001b[0;32m    338\u001b[0m     end \u001b[38;5;241m=\u001b[39m _w(s, end)\u001b[38;5;241m.\u001b[39mend()\n\u001b[0;32m    339\u001b[0m     \u001b[38;5;28;01mif\u001b[39;00m end \u001b[38;5;241m!=\u001b[39m \u001b[38;5;28mlen\u001b[39m(s):\n",
      "File \u001b[1;32m~\\AppData\\Local\\Programs\\Python\\Python311\\Lib\\json\\decoder.py:355\u001b[0m, in \u001b[0;36mJSONDecoder.raw_decode\u001b[1;34m(self, s, idx)\u001b[0m\n\u001b[0;32m    353\u001b[0m     obj, end \u001b[38;5;241m=\u001b[39m \u001b[38;5;28mself\u001b[39m\u001b[38;5;241m.\u001b[39mscan_once(s, idx)\n\u001b[0;32m    354\u001b[0m \u001b[38;5;28;01mexcept\u001b[39;00m \u001b[38;5;167;01mStopIteration\u001b[39;00m \u001b[38;5;28;01mas\u001b[39;00m err:\n\u001b[1;32m--> 355\u001b[0m     \u001b[38;5;28;01mraise\u001b[39;00m JSONDecodeError(\u001b[38;5;124m\"\u001b[39m\u001b[38;5;124mExpecting value\u001b[39m\u001b[38;5;124m\"\u001b[39m, s, err\u001b[38;5;241m.\u001b[39mvalue) \u001b[38;5;28;01mfrom\u001b[39;00m \u001b[38;5;28;01mNone\u001b[39;00m\n\u001b[0;32m    356\u001b[0m \u001b[38;5;28;01mreturn\u001b[39;00m obj, end\n",
      "\u001b[1;31mJSONDecodeError\u001b[0m: Expecting value: line 1 column 5 (char 4)"
     ]
    }
   ],
   "source": [
    "# # Fungsi untuk scraping data berdasarkan tanggal dan komoditas\n",
    "# def scrape_data(date, commodity):\n",
    "#     base_url = 'https://siskaperbapo.jatimprov.go.id/home2/getDataMap/'\n",
    "#     url = f\"{base_url}?tanggal={date}&komoditas={commodity}\"\n",
    "#     response = requests.get(url)\n",
    "\n",
    "#     if response.status_code == 200:\n",
    "#         data = response.text  # Mengambil respons sebagai string\n",
    "#         return data\n",
    "#     else:\n",
    "#         print(f\"Failed to retrieve data: {response.status_code}\")\n",
    "#         return None\n",
    "\n",
    "# # Fungsi untuk menyimpan data 'code' dan 'hrg' ke file CSV\n",
    "# def save_to_csv(data, date, filename):\n",
    "#     with open(filename, 'a', newline='') as csvfile:  # Mode 'a' untuk menambahkan ke file yang ada\n",
    "#         writer = csv.writer(csvfile)\n",
    "#         # Parsing data sebagai JSON\n",
    "#         json_data = json.loads(data)\n",
    "#         # Menulis header jika file CSV kosong\n",
    "#         if csvfile.tell() == 0:\n",
    "#             writer.writerow(['tanggal', 'code', 'hrg'])\n",
    "#         # Mengambil data 'code' dan 'hrg' dari setiap entri dalam JSON\n",
    "#         for kabupaten_kota in json_data['data'].values():\n",
    "#             code = kabupaten_kota['code']\n",
    "#             hrg = kabupaten_kota['hrg']\n",
    "#             writer.writerow([date, code, hrg])\n",
    "\n",
    "\n",
    "# # Contoh penggunaan fungsi\n",
    "# start_date = datetime(2024, 1, 1)  # Tanggal awal\n",
    "# end_date = datetime(2024, 6, 2)    # Tanggal akhir (inclusive)\n",
    "\n",
    "# commodity = '4'  # ID komoditas untuk Beras Medium\n",
    "\n",
    "# while start_date <= end_date:\n",
    "#     tanggal = start_date.strftime('%Y-%m-%d')\n",
    "#     data = scrape_data(tanggal, commodity)\n",
    "#     if data:\n",
    "#         print(f\"Data retrieved for {tanggal} successfully.\")\n",
    "#         # Menyimpan data ke file CSV\n",
    "#         save_to_csv(data, tanggal, 'scraped_data.csv')\n",
    "#         print(f\"Data for {tanggal} saved to 'scraped_data.csv'.\")\n",
    "#     start_date += timedelta(days=1)  # Pindah ke tanggal berikutnya\n",
    "\n",
    "# Fungsi untuk scraping data berdasarkan tanggal dan komoditas\n",
    "def scrape_data(date, commodity):\n",
    "    base_url = 'https://siskaperbapo.jatimprov.go.id/home2/getDataMap/'\n",
    "    url = f\"{base_url}?tanggal={date}&komoditas={commodity}\"\n",
    "    response = requests.get(url)\n",
    "\n",
    "    if response.status_code == 200:\n",
    "        data = response.text  # Mengambil respons sebagai string\n",
    "        return data\n",
    "    else:\n",
    "        print(f\"Failed to retrieve data: {response.status_code}\")\n",
    "        return None\n",
    "\n",
    "# Fungsi untuk menyimpan data 'code' dan 'hrg' ke file CSV\n",
    "def save_to_csv(data, date, filename):\n",
    "    with open(filename, 'a', newline='') as csvfile:  # Mode 'a' untuk menambahkan ke file yang ada\n",
    "        writer = csv.writer(csvfile)\n",
    "        # Parsing data sebagai JSON\n",
    "        json_data = json.loads(data)\n",
    "        # Menulis header jika file CSV kosong\n",
    "        if csvfile.tell() == 0:\n",
    "            writer.writerow(['tanggal', 'code', 'hrg'])\n",
    "        # Mengambil data 'code' dan 'hrg' dari setiap entri dalam JSON\n",
    "        for kabupaten_kota in json_data['data'].values():\n",
    "            code = kabupaten_kota['code']\n",
    "            hrg = kabupaten_kota['hrg']\n",
    "            writer.writerow([date, code, hrg])\n",
    "\n",
    "# Contoh penggunaan fungsi\n",
    "start_date = datetime(2024, 6, 2)  # Tanggal awal\n",
    "end_date = datetime(2024, 6, 15)    # Tanggal akhir (inclusive)\n",
    "\n",
    "#use later!\n",
    "# commodity_key_value = {\"cabe_rawit_merah\": \"50\", \"bawang_merah\":\"39\",\"jagung\":\"25\",\"kacang_tanah\":\"42\",\"kedelai_lokal\":\"33\",\"kentang\":\"45\",\"kol\":\"44\",\"tomat\":\"46\"}\n",
    "# commodity_key_value = { \"bawang_merah_new\":\"39\"}\n",
    "\n",
    "commodity_key_value = {\"cabe_rawit_merah_new\": \"50\",\"jagung_new\":\"25\",\"kacang_tanah_new\":\"42\",\"kedelai_lokal_new\":\"33\",\"kentang_new\":\"45\",\"kol_new\":\"44\",\"tomat_new\":\"46\"}\n",
    "\n",
    "\n",
    "for commodity_name, commodity_id in commodity_key_value.items():\n",
    "    while start_date <= end_date:\n",
    "        tanggal = start_date.strftime('%Y-%m-%d')\n",
    "        data = scrape_data(tanggal, commodity_id)\n",
    "        if data:\n",
    "            print(f\"Data retrieved for {tanggal} successfully.\")\n",
    "            # Menyimpan data ke file CSV\n",
    "            save_to_csv(data, tanggal, f'{commodity_name}.csv')\n",
    "            print(f\"Data for {tanggal} saved to '{commodity_name}.csv'.\")\n",
    "        start_date += timedelta(days=1)  # Pindah ke tanggal berikutnya\n",
    "    start_date = datetime(2024, 6, 2)  # Reset start_date for the next commodity"
   ]
  },
  {
   "cell_type": "code",
   "execution_count": 6,
   "metadata": {},
   "outputs": [
    {
     "name": "stdout",
     "output_type": "stream",
     "text": [
      "Mean values saved to 'cabe_rawit_merah_new_mean.csv'.\n",
      "Mean values saved to 'jagung_new_mean.csv'.\n",
      "Mean values saved to 'kacang_tanah_new_mean.csv'.\n",
      "Mean values saved to 'kedelai_lokal_new_mean.csv'.\n",
      "Mean values saved to 'kentang_new_mean.csv'.\n",
      "Mean values saved to 'kol_new_mean.csv'.\n",
      "Mean values saved to 'tomat_new_mean.csv'.\n"
     ]
    }
   ],
   "source": [
    "# Fungsi untuk menghitung rata-rata 'hrg' untuk setiap tanggal dan menyimpannya ke file CSV baru\n",
    "def calculate_mean_and_save(commodity_name):\n",
    "    # Membaca data dari file CSV\n",
    "    df = pd.read_csv(f'{commodity_name}.csv')\n",
    "    # Menghitung rata-rata 'hrg' untuk setiap tanggal\n",
    "    mean_df = df.groupby('tanggal')['hrg'].mean().reset_index()\n",
    "    # Menambahkan kolom 'no' sebagai index\n",
    "    mean_df.reset_index(inplace=True)\n",
    "    mean_df.rename(columns={'index': 'no'}, inplace=True)\n",
    "    # Menyimpan hasil ke file CSV baru\n",
    "    mean_df.to_csv(f'{commodity_name}_mean.csv', index=False)\n",
    "    print(f\"Mean values saved to '{commodity_name}_mean.csv'.\")\n",
    "\n",
    "# Contoh penggunaan fungsi\n",
    "# commodity_key_value = {\"cabe_rawit_merah\": \"50\", \"bawang_merah\":\"39\",\"jagung\":\"25\",\"kacang_tanah\":\"42\",\"kedelai_lokal\":\"33\",\"kentang\":\"45\",\"kol\":\"44\",\"tomat\":\"46\"}\n",
    "# commodity_key_value = { \"bawang_merah_new\":\"39\"}\n",
    "    \n",
    "commodity_key_value = {\"cabe_rawit_merah_new\": \"50\", \"bawang_merah\":\"39\",\"jagung_new\":\"25\",\"kacang_tanah_new\":\"42\",\"kedelai_lokal_new\":\"33\",\"kentang_new\":\"45\",\"kol_new\":\"44\",\"tomat_new\":\"46\"}\n",
    "\n",
    "\n",
    "\n",
    "for commodity_name in commodity_key_value.keys():\n",
    "    calculate_mean_and_save(commodity_name)"
   ]
  }
 ],
 "metadata": {
  "kernelspec": {
   "display_name": "venv",
   "language": "python",
   "name": "python3"
  },
  "language_info": {
   "codemirror_mode": {
    "name": "ipython",
    "version": 3
   },
   "file_extension": ".py",
   "mimetype": "text/x-python",
   "name": "python",
   "nbconvert_exporter": "python",
   "pygments_lexer": "ipython3",
   "version": "3.11.4"
  }
 },
 "nbformat": 4,
 "nbformat_minor": 2
}
