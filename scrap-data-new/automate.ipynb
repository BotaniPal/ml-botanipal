{
 "cells": [
  {
   "cell_type": "code",
   "execution_count": 1,
   "metadata": {},
   "outputs": [
    {
     "name": "stdout",
     "output_type": "stream",
     "text": [
      "Requirement already satisfied: requests in c:\\users\\dprih\\onedrive\\dokumen\\its\\its semester 6\\capstone-bangkit-ml\\venv\\lib\\site-packages (2.32.3)\n",
      "Requirement already satisfied: charset-normalizer<4,>=2 in c:\\users\\dprih\\onedrive\\dokumen\\its\\its semester 6\\capstone-bangkit-ml\\venv\\lib\\site-packages (from requests) (3.3.2)\n",
      "Requirement already satisfied: idna<4,>=2.5 in c:\\users\\dprih\\onedrive\\dokumen\\its\\its semester 6\\capstone-bangkit-ml\\venv\\lib\\site-packages (from requests) (3.7)\n",
      "Requirement already satisfied: urllib3<3,>=1.21.1 in c:\\users\\dprih\\onedrive\\dokumen\\its\\its semester 6\\capstone-bangkit-ml\\venv\\lib\\site-packages (from requests) (2.2.1)\n",
      "Requirement already satisfied: certifi>=2017.4.17 in c:\\users\\dprih\\onedrive\\dokumen\\its\\its semester 6\\capstone-bangkit-ml\\venv\\lib\\site-packages (from requests) (2024.6.2)\n",
      "Note: you may need to restart the kernel to use updated packages.\n",
      "Requirement already satisfied: beautifulsoup4 in c:\\users\\dprih\\onedrive\\dokumen\\its\\its semester 6\\capstone-bangkit-ml\\venv\\lib\\site-packages (4.12.3)\n",
      "Requirement already satisfied: soupsieve>1.2 in c:\\users\\dprih\\onedrive\\dokumen\\its\\its semester 6\\capstone-bangkit-ml\\venv\\lib\\site-packages (from beautifulsoup4) (2.5)\n",
      "Note: you may need to restart the kernel to use updated packages.\n"
     ]
    }
   ],
   "source": [
    "%pip install requests\n",
    "%pip install beautifulsoup4"
   ]
  },
  {
   "cell_type": "code",
   "execution_count": 2,
   "metadata": {},
   "outputs": [],
   "source": [
    "import requests\n",
    "import csv\n",
    "import json\n",
    "import pandas as pd\n",
    "from datetime import datetime, timedelta\n"
   ]
  },
  {
   "cell_type": "code",
   "execution_count": null,
   "metadata": {},
   "outputs": [],
   "source": [
    "commodity_key_value = {\"cabe_rawit_merah\": \"50\", \"bawang_merah\":\"39\",\"jagung\":\"25\",\"kacang_tanah\":\"42\",\"kedelai_lokal\":\"33\",\"kentang\":\"45\",\"kol\":\"44\",\"tomat\":\"46\"}"
   ]
  },
  {
   "cell_type": "code",
   "execution_count": 3,
   "metadata": {},
   "outputs": [
    {
     "name": "stdout",
     "output_type": "stream",
     "text": [
      "Data retrieved for 2024-06-02 successfully.\n",
      "Data for 2024-06-02 saved to 'bawang_merah_new.csv'.\n",
      "Data retrieved for 2024-06-03 successfully.\n",
      "Data for 2024-06-03 saved to 'bawang_merah_new.csv'.\n",
      "Data retrieved for 2024-06-04 successfully.\n",
      "Data for 2024-06-04 saved to 'bawang_merah_new.csv'.\n",
      "Data retrieved for 2024-06-05 successfully.\n",
      "Data for 2024-06-05 saved to 'bawang_merah_new.csv'.\n",
      "Data retrieved for 2024-06-06 successfully.\n",
      "Data for 2024-06-06 saved to 'bawang_merah_new.csv'.\n",
      "Data retrieved for 2024-06-07 successfully.\n",
      "Data for 2024-06-07 saved to 'bawang_merah_new.csv'.\n",
      "Data retrieved for 2024-06-08 successfully.\n",
      "Data for 2024-06-08 saved to 'bawang_merah_new.csv'.\n",
      "Data retrieved for 2024-06-09 successfully.\n",
      "Data for 2024-06-09 saved to 'bawang_merah_new.csv'.\n",
      "Data retrieved for 2024-06-10 successfully.\n",
      "Data for 2024-06-10 saved to 'bawang_merah_new.csv'.\n",
      "Data retrieved for 2024-06-11 successfully.\n",
      "Data for 2024-06-11 saved to 'bawang_merah_new.csv'.\n",
      "Data retrieved for 2024-06-12 successfully.\n",
      "Data for 2024-06-12 saved to 'bawang_merah_new.csv'.\n",
      "Data retrieved for 2024-06-13 successfully.\n",
      "Data for 2024-06-13 saved to 'bawang_merah_new.csv'.\n",
      "Data retrieved for 2024-06-14 successfully.\n",
      "Data for 2024-06-14 saved to 'bawang_merah_new.csv'.\n",
      "Data retrieved for 2024-06-15 successfully.\n",
      "Data for 2024-06-15 saved to 'bawang_merah_new.csv'.\n"
     ]
    }
   ],
   "source": [
    "# # Fungsi untuk scraping data berdasarkan tanggal dan komoditas\n",
    "# def scrape_data(date, commodity):\n",
    "#     base_url = 'https://siskaperbapo.jatimprov.go.id/home2/getDataMap/'\n",
    "#     url = f\"{base_url}?tanggal={date}&komoditas={commodity}\"\n",
    "#     response = requests.get(url)\n",
    "\n",
    "#     if response.status_code == 200:\n",
    "#         data = response.text  # Mengambil respons sebagai string\n",
    "#         return data\n",
    "#     else:\n",
    "#         print(f\"Failed to retrieve data: {response.status_code}\")\n",
    "#         return None\n",
    "\n",
    "# # Fungsi untuk menyimpan data 'code' dan 'hrg' ke file CSV\n",
    "# def save_to_csv(data, date, filename):\n",
    "#     with open(filename, 'a', newline='') as csvfile:  # Mode 'a' untuk menambahkan ke file yang ada\n",
    "#         writer = csv.writer(csvfile)\n",
    "#         # Parsing data sebagai JSON\n",
    "#         json_data = json.loads(data)\n",
    "#         # Menulis header jika file CSV kosong\n",
    "#         if csvfile.tell() == 0:\n",
    "#             writer.writerow(['tanggal', 'code', 'hrg'])\n",
    "#         # Mengambil data 'code' dan 'hrg' dari setiap entri dalam JSON\n",
    "#         for kabupaten_kota in json_data['data'].values():\n",
    "#             code = kabupaten_kota['code']\n",
    "#             hrg = kabupaten_kota['hrg']\n",
    "#             writer.writerow([date, code, hrg])\n",
    "\n",
    "\n",
    "# # Contoh penggunaan fungsi\n",
    "# start_date = datetime(2024, 1, 1)  # Tanggal awal\n",
    "# end_date = datetime(2024, 6, 2)    # Tanggal akhir (inclusive)\n",
    "\n",
    "# commodity = '4'  # ID komoditas untuk Beras Medium\n",
    "\n",
    "# while start_date <= end_date:\n",
    "#     tanggal = start_date.strftime('%Y-%m-%d')\n",
    "#     data = scrape_data(tanggal, commodity)\n",
    "#     if data:\n",
    "#         print(f\"Data retrieved for {tanggal} successfully.\")\n",
    "#         # Menyimpan data ke file CSV\n",
    "#         save_to_csv(data, tanggal, 'scraped_data.csv')\n",
    "#         print(f\"Data for {tanggal} saved to 'scraped_data.csv'.\")\n",
    "#     start_date += timedelta(days=1)  # Pindah ke tanggal berikutnya\n",
    "\n",
    "# Fungsi untuk scraping data berdasarkan tanggal dan komoditas\n",
    "def scrape_data(date, commodity):\n",
    "    base_url = 'https://siskaperbapo.jatimprov.go.id/home2/getDataMap/'\n",
    "    url = f\"{base_url}?tanggal={date}&komoditas={commodity}\"\n",
    "    response = requests.get(url)\n",
    "\n",
    "    if response.status_code == 200:\n",
    "        data = response.text  # Mengambil respons sebagai string\n",
    "        return data\n",
    "    else:\n",
    "        print(f\"Failed to retrieve data: {response.status_code}\")\n",
    "        return None\n",
    "\n",
    "# Fungsi untuk menyimpan data 'code' dan 'hrg' ke file CSV\n",
    "def save_to_csv(data, date, filename):\n",
    "    with open(filename, 'a', newline='') as csvfile:  # Mode 'a' untuk menambahkan ke file yang ada\n",
    "        writer = csv.writer(csvfile)\n",
    "        # Parsing data sebagai JSON\n",
    "        json_data = json.loads(data)\n",
    "        # Menulis header jika file CSV kosong\n",
    "        if csvfile.tell() == 0:\n",
    "            writer.writerow(['tanggal', 'code', 'hrg'])\n",
    "        # Mengambil data 'code' dan 'hrg' dari setiap entri dalam JSON\n",
    "        for kabupaten_kota in json_data['data'].values():\n",
    "            code = kabupaten_kota['code']\n",
    "            hrg = kabupaten_kota['hrg']\n",
    "            writer.writerow([date, code, hrg])\n",
    "\n",
    "# Contoh penggunaan fungsi\n",
    "start_date = datetime(2024, 6, 2)  # Tanggal awal\n",
    "end_date = datetime(2024, 6, 15)    # Tanggal akhir (inclusive)\n",
    "\n",
    "#use later!\n",
    "# commodity_key_value = {\"cabe_rawit_merah\": \"50\", \"bawang_merah\":\"39\",\"jagung\":\"25\",\"kacang_tanah\":\"42\",\"kedelai_lokal\":\"33\",\"kentang\":\"45\",\"kol\":\"44\",\"tomat\":\"46\"}\n",
    "commodity_key_value = { \"bawang_merah_new\":\"39\"}\n",
    "\n",
    "\n",
    "for commodity_name, commodity_id in commodity_key_value.items():\n",
    "    while start_date <= end_date:\n",
    "        tanggal = start_date.strftime('%Y-%m-%d')\n",
    "        data = scrape_data(tanggal, commodity_id)\n",
    "        if data:\n",
    "            print(f\"Data retrieved for {tanggal} successfully.\")\n",
    "            # Menyimpan data ke file CSV\n",
    "            save_to_csv(data, tanggal, f'{commodity_name}.csv')\n",
    "            print(f\"Data for {tanggal} saved to '{commodity_name}.csv'.\")\n",
    "        start_date += timedelta(days=1)  # Pindah ke tanggal berikutnya\n",
    "    start_date = datetime(2023, 1, 1)  # Reset start_date for the next commodity"
   ]
  },
  {
   "cell_type": "code",
   "execution_count": 4,
   "metadata": {},
   "outputs": [
    {
     "name": "stdout",
     "output_type": "stream",
     "text": [
      "Mean values saved to 'bawang_merah_new_mean.csv'.\n"
     ]
    }
   ],
   "source": [
    "# Fungsi untuk menghitung rata-rata 'hrg' untuk setiap tanggal dan menyimpannya ke file CSV baru\n",
    "def calculate_mean_and_save(commodity_name):\n",
    "    # Membaca data dari file CSV\n",
    "    df = pd.read_csv(f'{commodity_name}.csv')\n",
    "    # Menghitung rata-rata 'hrg' untuk setiap tanggal\n",
    "    mean_df = df.groupby('tanggal')['hrg'].mean().reset_index()\n",
    "    # Menambahkan kolom 'no' sebagai index\n",
    "    mean_df.reset_index(inplace=True)\n",
    "    mean_df.rename(columns={'index': 'no'}, inplace=True)\n",
    "    # Menyimpan hasil ke file CSV baru\n",
    "    mean_df.to_csv(f'{commodity_name}_mean.csv', index=False)\n",
    "    print(f\"Mean values saved to '{commodity_name}_mean.csv'.\")\n",
    "\n",
    "# Contoh penggunaan fungsi\n",
    "# commodity_key_value = {\"cabe_rawit_merah\": \"50\", \"bawang_merah\":\"39\",\"jagung\":\"25\",\"kacang_tanah\":\"42\",\"kedelai_lokal\":\"33\",\"kentang\":\"45\",\"kol\":\"44\",\"tomat\":\"46\"}\n",
    "commodity_key_value = { \"bawang_merah_new\":\"39\"}\n",
    "\n",
    "\n",
    "for commodity_name in commodity_key_value.keys():\n",
    "    calculate_mean_and_save(commodity_name)"
   ]
  }
 ],
 "metadata": {
  "kernelspec": {
   "display_name": "venv",
   "language": "python",
   "name": "python3"
  },
  "language_info": {
   "codemirror_mode": {
    "name": "ipython",
    "version": 3
   },
   "file_extension": ".py",
   "mimetype": "text/x-python",
   "name": "python",
   "nbconvert_exporter": "python",
   "pygments_lexer": "ipython3",
   "version": "3.11.4"
  }
 },
 "nbformat": 4,
 "nbformat_minor": 2
}
