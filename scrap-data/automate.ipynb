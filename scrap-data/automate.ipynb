{
 "cells": [
  {
   "cell_type": "code",
   "execution_count": 2,
   "metadata": {},
   "outputs": [
    {
     "name": "stdout",
     "output_type": "stream",
     "text": [
      "Collecting requests\n",
      "  Using cached requests-2.32.3-py3-none-any.whl.metadata (4.6 kB)\n",
      "Collecting charset-normalizer<4,>=2 (from requests)\n",
      "  Using cached charset_normalizer-3.3.2-cp311-cp311-win_amd64.whl.metadata (34 kB)\n",
      "Collecting idna<4,>=2.5 (from requests)\n",
      "  Using cached idna-3.7-py3-none-any.whl.metadata (9.9 kB)\n",
      "Collecting urllib3<3,>=1.21.1 (from requests)\n",
      "  Using cached urllib3-2.2.1-py3-none-any.whl.metadata (6.4 kB)\n",
      "Collecting certifi>=2017.4.17 (from requests)\n",
      "  Using cached certifi-2024.6.2-py3-none-any.whl.metadata (2.2 kB)\n",
      "Using cached requests-2.32.3-py3-none-any.whl (64 kB)\n",
      "Using cached certifi-2024.6.2-py3-none-any.whl (164 kB)\n",
      "Using cached charset_normalizer-3.3.2-cp311-cp311-win_amd64.whl (99 kB)\n",
      "Using cached idna-3.7-py3-none-any.whl (66 kB)\n",
      "Using cached urllib3-2.2.1-py3-none-any.whl (121 kB)\n",
      "Installing collected packages: urllib3, idna, charset-normalizer, certifi, requests\n",
      "Successfully installed certifi-2024.6.2 charset-normalizer-3.3.2 idna-3.7 requests-2.32.3 urllib3-2.2.1\n",
      "Note: you may need to restart the kernel to use updated packages.\n",
      "Requirement already satisfied: beautifulsoup4 in c:\\users\\dprih\\onedrive\\dokumen\\its\\its semester 6\\capstone-bangkit-ml\\venv\\lib\\site-packages (4.12.3)\n",
      "Requirement already satisfied: soupsieve>1.2 in c:\\users\\dprih\\onedrive\\dokumen\\its\\its semester 6\\capstone-bangkit-ml\\venv\\lib\\site-packages (from beautifulsoup4) (2.5)\n",
      "Note: you may need to restart the kernel to use updated packages.\n"
     ]
    }
   ],
   "source": [
    "%pip install requests\n",
    "%pip install beautifulsoup4"
   ]
  },
  {
   "cell_type": "code",
   "execution_count": 6,
   "metadata": {},
   "outputs": [],
   "source": [
    "import requests\n",
    "from bs4 import BeautifulSoup"
   ]
  },
  {
   "cell_type": "code",
   "execution_count": 14,
   "metadata": {},
   "outputs": [
    {
     "name": "stdout",
     "output_type": "stream",
     "text": [
      "{'data': {'surabayakota': {'no': '1', 'code': 'surabayakota', 'nama': 'Kota Surabaya', 'hrg': 12550}, 'malangkota': {'no': '2', 'code': 'malangkota', 'nama': 'Kota Malang', 'hrg': 12616}, 'kedirikota': {'no': '3', 'code': 'kedirikota', 'nama': 'Kota Kediri', 'hrg': 11700}, 'jemberkab': {'no': '4', 'code': 'jemberkab', 'nama': 'Kabupaten Jember', 'hrg': 12080}, 'bangkalankab': {'no': '5', 'code': 'bangkalankab', 'nama': 'Kabupaten Bangkalan', 'hrg': 11000}, 'banyuwangikab': {'no': '6', 'code': 'banyuwangikab', 'nama': 'Kabupaten Banyuwangi', 'hrg': 12300}, 'blitarkab': {'no': '7', 'code': 'blitarkab', 'nama': 'Kabupaten Blitar', 'hrg': 11000}, 'bojonegorokab': {'no': '8', 'code': 'bojonegorokab', 'nama': 'Kabupaten Bojonegoro', 'hrg': 12000}, 'bondowosokab': {'no': '9', 'code': 'bondowosokab', 'nama': 'Kabupaten Bondowoso', 'hrg': 10900}, 'gresikkab': {'no': '10', 'code': 'gresikkab', 'nama': 'Kabupaten Gresik', 'hrg': 11800}, 'jombangkab': {'no': '11', 'code': 'jombangkab', 'nama': 'Kabupaten Jombang', 'hrg': 11333}, 'kedirikab': {'no': '12', 'code': 'kedirikab', 'nama': 'Kabupaten Kediri', 'hrg': 12166}, 'lamongankab': {'no': '13', 'code': 'lamongankab', 'nama': 'Kabupaten Lamongan', 'hrg': 11812}, 'lumajangkab': {'no': '14', 'code': 'lumajangkab', 'nama': 'Kabupaten Lumajang', 'hrg': 12333}, 'madiunkab': {'no': '15', 'code': 'madiunkab', 'nama': 'Kabupaten Madiun', 'hrg': 12000}, 'magetankab': {'no': '16', 'code': 'magetankab', 'nama': 'Kabupaten Magetan', 'hrg': 12200}, 'malangkab': {'no': '17', 'code': 'malangkab', 'nama': 'Kabupaten Malang', 'hrg': 12000}, 'mojokertokab': {'no': '18', 'code': 'mojokertokab', 'nama': 'Kabupaten Mojokerto', 'hrg': 11250}, 'nganjukkab': {'no': '19', 'code': 'nganjukkab', 'nama': 'Kabupaten Nganjuk', 'hrg': 12166}, 'ngawikab': {'no': '20', 'code': 'ngawikab', 'nama': 'Kabupaten Ngawi', 'hrg': 11500}, 'pacitankab': {'no': '21', 'code': 'pacitankab', 'nama': 'Kabupaten Pacitan', 'hrg': 12000}, 'pamekasankab': {'no': '22', 'code': 'pamekasankab', 'nama': 'Kabupaten Pamekasan', 'hrg': 11800}, 'pasuruankab': {'no': '23', 'code': 'pasuruankab', 'nama': 'Kabupaten Pasuruan', 'hrg': 11433}, 'ponorogokab': {'no': '24', 'code': 'ponorogokab', 'nama': 'Kabupaten Ponorogo', 'hrg': 12075}, 'probolinggokab': {'no': '25', 'code': 'probolinggokab', 'nama': 'Kabupaten Probolinggo', 'hrg': 10900}, 'sampangkab': {'no': '26', 'code': 'sampangkab', 'nama': 'Kabupaten Sampang', 'hrg': 11000}, 'sidoarjokab': {'no': '27', 'code': 'sidoarjokab', 'nama': 'Kabupaten Sidoarjo', 'hrg': 11750}, 'situbondokab': {'no': '28', 'code': 'situbondokab', 'nama': 'Kabupaten Situbondo', 'hrg': 11133}, 'sumenepkab': {'no': '29', 'code': 'sumenepkab', 'nama': 'Kabupaten Sumenep', 'hrg': 12250}, 'trenggalekkab': {'no': '30', 'code': 'trenggalekkab', 'nama': 'Kabupaten Trenggalek', 'hrg': 11500}, 'tubankab': {'no': '31', 'code': 'tubankab', 'nama': 'Kabupaten Tuban', 'hrg': 12250}, 'tulungagungkab': {'no': '32', 'code': 'tulungagungkab', 'nama': 'Kabupaten Tulungagung', 'hrg': 11400}, 'batukota': {'no': '33', 'code': 'batukota', 'nama': 'Kota Batu', 'hrg': 12000}, 'blitarkota': {'no': '34', 'code': 'blitarkota', 'nama': 'Kota Blitar', 'hrg': 11700}, 'madiunkota': {'no': '35', 'code': 'madiunkota', 'nama': 'Kota Madiun', 'hrg': 11833}, 'mojokertokota': {'no': '36', 'code': 'mojokertokota', 'nama': 'Kota Mojokerto', 'hrg': 11500}, 'pasuruankota': {'no': '37', 'code': 'pasuruankota', 'nama': 'Kota Pasuruan', 'hrg': 12000}, 'probolinggokota': {'no': '38', 'code': 'probolinggokota', 'nama': 'Kota Probolinggo', 'hrg': 11600}}, 'tanggal': '2024-06-02 21:33:40', 'komoditas_id': 4, 'komoditas_nama': 'Beras Medium / kg', 'min': 10582.2, 'max': 12933.8, 'avg': 11758, 'tgl': '2024-06-02 21:33:40', 'info': 'Informasi harga untuk komoditas <b>Beras Medium / kg</b> di Propinsi Jawa Timur tanggal 2024-06-02 21:33:40, dari 38 data kabupaten/kota yang masuk (total 38 kota/kabupaten), harga rata-rata Jawa Timur adalah <b>Rp11.758,- </b>Harga rata-rata tertinggi di  Kota Malang <b> Rp12.616,-</b> dan harga rata-rata terendah di  Kabupaten Probolinggo, Kabupaten Bondowoso <b>Rp10.900,-</b>', 'komoditas_harian': {'cols': [{'id': '', 'label': 'Tanggal', 'pattern': '', 'type': 'string'}, {'id': '', 'label': 'Harga Beras Medium / kg', 'pattern': '', 'type': 'number'}], 'rows': [{'c': [{'v': '2024-06-01', 'f': None}, {'v': 11765, 'f': None}]}, {'c': [{'v': '2024-05-31', 'f': None}, {'v': 11762, 'f': None}]}, {'c': [{'v': '2024-05-30', 'f': None}, {'v': 11762, 'f': None}]}, {'c': [{'v': '2024-05-29', 'f': None}, {'v': 11757, 'f': None}]}, {'c': [{'v': '2024-05-28', 'f': None}, {'v': 11803, 'f': None}]}, {'c': [{'v': '2024-05-27', 'f': None}, {'v': 11816, 'f': None}]}, {'c': [{'v': '2024-05-26', 'f': None}, {'v': 11783, 'f': None}]}, {'c': [{'v': '2024-05-25', 'f': None}, {'v': 11782, 'f': None}]}, {'c': [{'v': '2024-05-24', 'f': None}, {'v': 11777, 'f': None}]}, {'c': [{'v': '2024-05-23', 'f': None}, {'v': 11779, 'f': None}]}, {'c': [{'v': '2024-05-22', 'f': None}, {'v': 11758, 'f': None}]}, {'c': [{'v': '2024-05-21', 'f': None}, {'v': 11783, 'f': None}]}, {'c': [{'v': '2024-05-20', 'f': None}, {'v': 11788, 'f': None}]}, {'c': [{'v': '2024-05-19', 'f': None}, {'v': 11797, 'f': None}]}, {'c': [{'v': '2024-05-18', 'f': None}, {'v': 11798, 'f': None}]}, {'c': [{'v': '2024-05-17', 'f': None}, {'v': 11803, 'f': None}]}, {'c': [{'v': '2024-05-16', 'f': None}, {'v': 11816, 'f': None}]}, {'c': [{'v': '2024-05-15', 'f': None}, {'v': 11844, 'f': None}]}, {'c': [{'v': '2024-05-14', 'f': None}, {'v': 11836, 'f': None}]}, {'c': [{'v': '2024-05-13', 'f': None}, {'v': 11816, 'f': None}]}, {'c': [{'v': '2024-05-12', 'f': None}, {'v': 11855, 'f': None}]}, {'c': [{'v': '2024-05-11', 'f': None}, {'v': 11850, 'f': None}]}, {'c': [{'v': '2024-05-10', 'f': None}, {'v': 11852, 'f': None}]}, {'c': [{'v': '2024-05-09', 'f': None}, {'v': 11850, 'f': None}]}, {'c': [{'v': '2024-05-08', 'f': None}, {'v': 11850, 'f': None}]}, {'c': [{'v': '2024-05-07', 'f': None}, {'v': 11776, 'f': None}]}, {'c': [{'v': '2024-05-06', 'f': None}, {'v': 11726, 'f': None}]}, {'c': [{'v': '2024-05-05', 'f': None}, {'v': 11657, 'f': None}]}, {'c': [{'v': '2024-05-04', 'f': None}, {'v': 11661, 'f': None}]}, {'c': [{'v': '2024-05-03', 'f': None}, {'v': 11649, 'f': None}]}]}}\n"
     ]
    }
   ],
   "source": [
    "# # Replace 'your_url_here' with the actual URL of the table\n",
    "# url = 'https://siskaperbapo.jatimprov.go.id'\n",
    "# response = requests.get(url)\n",
    "# soup = BeautifulSoup(response.content, 'html.parser')\n",
    "\n",
    "# # Find the table - you'll need to inspect the site to get the correct selector\n",
    "# table = soup.find('table',{'id': 'datatbl'})  # Example selector\n",
    "# data = []\n",
    "\n",
    "# # Iterate over rows and cells\n",
    "# for row in table.find_all('tr'):\n",
    "#     cols = row.find_all('td')\n",
    "#     data.append([col.text.strip() for col in cols])\n",
    "\n",
    "# # Now `data` contains all the rows and columns of the table\n",
    "# print(data)\n",
    "\n",
    "\n",
    "# URL base\n",
    "base_url = 'https://siskaperbapo.jatimprov.go.id/home2/getDataMap/'\n",
    "\n",
    "# Fungsi untuk scraping data berdasarkan tanggal dan komoditas\n",
    "def scrape_data(date, commodity):\n",
    "    # Membuat URL dengan parameter tanggal dan komoditas yang berubah\n",
    "    url = f\"{base_url}?tanggal={date}&komoditas={commodity}\"\n",
    "\n",
    "    # Mengirimkan permintaan GET ke server\n",
    "    response = requests.get(url)\n",
    "\n",
    "    # Memeriksa apakah permintaan berhasil\n",
    "    if response.status_code == 200:\n",
    "        data = response.json()  # Mengonversi respon ke format JSON\n",
    "        return data\n",
    "    else:\n",
    "        print(f\"Failed to retrieve data: {response.status_code}\")\n",
    "        return None\n",
    "\n",
    "# Contoh penggunaan fungsi\n",
    "tanggal = '2024-06-02'\n",
    "komoditas = '4'\n",
    "\n",
    "data = scrape_data(tanggal, komoditas)\n",
    "\n",
    "if data:\n",
    "    print(data)"
   ]
  }
 ],
 "metadata": {
  "kernelspec": {
   "display_name": "venv",
   "language": "python",
   "name": "python3"
  },
  "language_info": {
   "codemirror_mode": {
    "name": "ipython",
    "version": 3
   },
   "file_extension": ".py",
   "mimetype": "text/x-python",
   "name": "python",
   "nbconvert_exporter": "python",
   "pygments_lexer": "ipython3",
   "version": "3.11.4"
  }
 },
 "nbformat": 4,
 "nbformat_minor": 2
}
