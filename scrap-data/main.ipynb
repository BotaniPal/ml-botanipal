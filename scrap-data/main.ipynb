{
 "cells": [
  {
   "cell_type": "code",
   "execution_count": 14,
   "metadata": {},
   "outputs": [
    {
     "name": "stdout",
     "output_type": "stream",
     "text": [
      "Requirement already satisfied: pandas in c:\\users\\dprih\\onedrive\\dokumen\\its\\its semester 6\\capstone-bangkit\\venv\\lib\\site-packages (2.2.2)\n",
      "Requirement already satisfied: numpy>=1.23.2 in c:\\users\\dprih\\onedrive\\dokumen\\its\\its semester 6\\capstone-bangkit\\venv\\lib\\site-packages (from pandas) (1.26.4)\n",
      "Requirement already satisfied: python-dateutil>=2.8.2 in c:\\users\\dprih\\onedrive\\dokumen\\its\\its semester 6\\capstone-bangkit\\venv\\lib\\site-packages (from pandas) (2.9.0.post0)\n",
      "Requirement already satisfied: pytz>=2020.1 in c:\\users\\dprih\\onedrive\\dokumen\\its\\its semester 6\\capstone-bangkit\\venv\\lib\\site-packages (from pandas) (2024.1)\n",
      "Requirement already satisfied: tzdata>=2022.7 in c:\\users\\dprih\\onedrive\\dokumen\\its\\its semester 6\\capstone-bangkit\\venv\\lib\\site-packages (from pandas) (2024.1)\n",
      "Requirement already satisfied: six>=1.5 in c:\\users\\dprih\\onedrive\\dokumen\\its\\its semester 6\\capstone-bangkit\\venv\\lib\\site-packages (from python-dateutil>=2.8.2->pandas) (1.16.0)\n",
      "Note: you may need to restart the kernel to use updated packages.\n",
      "Collecting openpyxl\n",
      "  Downloading openpyxl-3.1.2-py2.py3-none-any.whl.metadata (2.5 kB)\n",
      "Collecting et-xmlfile (from openpyxl)\n",
      "  Downloading et_xmlfile-1.1.0-py3-none-any.whl.metadata (1.8 kB)\n",
      "Downloading openpyxl-3.1.2-py2.py3-none-any.whl (249 kB)\n",
      "   ---------------------------------------- 0.0/250.0 kB ? eta -:--:--\n",
      "   - -------------------------------------- 10.2/250.0 kB ? eta -:--:--\n",
      "   - -------------------------------------- 10.2/250.0 kB ? eta -:--:--\n",
      "   ------------ -------------------------- 81.9/250.0 kB 573.4 kB/s eta 0:00:01\n",
      "   ------------ -------------------------- 81.9/250.0 kB 573.4 kB/s eta 0:00:01\n",
      "   ------------ -------------------------- 81.9/250.0 kB 573.4 kB/s eta 0:00:01\n",
      "   ------------ -------------------------- 81.9/250.0 kB 573.4 kB/s eta 0:00:01\n",
      "   ------------------ ------------------- 122.9/250.0 kB 361.0 kB/s eta 0:00:01\n",
      "   ------------------ ------------------- 122.9/250.0 kB 361.0 kB/s eta 0:00:01\n",
      "   ------------------ ------------------- 122.9/250.0 kB 361.0 kB/s eta 0:00:01\n",
      "   ------------------ ------------------- 122.9/250.0 kB 361.0 kB/s eta 0:00:01\n",
      "   -------------------------------------  245.8/250.0 kB 471.0 kB/s eta 0:00:01\n",
      "   -------------------------------------- 250.0/250.0 kB 464.6 kB/s eta 0:00:00\n",
      "Downloading et_xmlfile-1.1.0-py3-none-any.whl (4.7 kB)\n",
      "Installing collected packages: et-xmlfile, openpyxl\n",
      "Successfully installed et-xmlfile-1.1.0 openpyxl-3.1.2\n",
      "Note: you may need to restart the kernel to use updated packages.\n"
     ]
    }
   ],
   "source": [
    "%pip install pandas\n",
    "%pip install openpyxl"
   ]
  },
  {
   "cell_type": "code",
   "execution_count": 15,
   "metadata": {},
   "outputs": [],
   "source": [
    "import csv\n",
    "import pandas as pd\n"
   ]
  },
  {
   "cell_type": "code",
   "execution_count": 16,
   "metadata": {},
   "outputs": [
    {
     "name": "stdout",
     "output_type": "stream",
     "text": [
      "{'Kabupaten Pamekasan': 12900, 'Kota Malang': 12583, 'Kabupaten Lumajang': 12500, 'Kabupaten Sidoarjo': 12500, 'Kota Surabaya': 12450, 'Kabupaten Banyuwangi': 12300, 'Kabupaten Sumenep': 12250, 'Kabupaten Kediri': 12166, 'Kabupaten Nganjuk': 12166, 'Kota Madiun': 12166, 'Kabupaten Magetan': 12133, 'Kabupaten Malang': 12100, 'Kabupaten Ponorogo': 12075, 'Kabupaten Bojonegoro': 12000, 'Kabupaten Madiun': 12000, 'Kabupaten Pacitan': 12000, 'Kabupaten Tuban': 12000, 'Kota Pasuruan': 12000, 'Kabupaten Lamongan': 11937, 'Kabupaten Gresik': 11800, 'Kabupaten Jember': 11760, 'Kota Batu': 11750, 'Kota Kediri': 11700, 'Kabupaten Pasuruan': 11600, 'Kota Probolinggo': 11600, 'Kabupaten Ngawi': 11500, 'Kabupaten Trenggalek': 11500, 'Kota Mojokerto': 11500, 'Kabupaten Tulungagung': 11400, 'Kabupaten Bangkalan': 11333, 'Kabupaten Jombang': 11333, 'Kabupaten Mojokerto': 11250, 'Kabupaten Blitar': 11000, 'Kabupaten Sampang': 11000, 'Kabupaten Situbondo': 11000, 'Kabupaten Bondowoso': 10900, 'Kabupaten Probolinggo': 10900, 'Kota Blitar': 10900}\n"
     ]
    }
   ],
   "source": [
    "data = \"\"\"\n",
    "Kabupaten Pamekasan Rp12.900\n",
    "Kota Malang Rp12.583\n",
    "Kabupaten Lumajang Rp12.500\n",
    "Kabupaten Sidoarjo Rp12.500\n",
    "Kota Surabaya Rp12.450\n",
    "Kabupaten Banyuwangi Rp12.300\n",
    "Kabupaten Sumenep Rp12.250\n",
    "Kabupaten Kediri Rp12.166\n",
    "Kabupaten Nganjuk Rp12.166\n",
    "Kota Madiun Rp12.166\n",
    "Kabupaten Magetan Rp12.133\n",
    "Kabupaten Malang Rp12.100\n",
    "Kabupaten Ponorogo Rp12.075\n",
    "Kabupaten Bojonegoro Rp12.000\n",
    "Kabupaten Madiun Rp12.000\n",
    "Kabupaten Pacitan Rp12.000\n",
    "Kabupaten Tuban Rp12.000\n",
    "Kota Pasuruan Rp12.000\n",
    "Kabupaten Lamongan Rp11.937\n",
    "Kabupaten Gresik Rp11.800\n",
    "Kabupaten Jember Rp11.760\n",
    "Kota Batu Rp11.750\n",
    "Kota Kediri Rp11.700\n",
    "Kabupaten Pasuruan Rp11.600\n",
    "Kota Probolinggo Rp11.600\n",
    "Kabupaten Ngawi Rp11.500\n",
    "Kabupaten Trenggalek Rp11.500\n",
    "Kota Mojokerto Rp11.500\n",
    "Kabupaten Tulungagung Rp11.400\n",
    "Kabupaten Bangkalan Rp11.333\n",
    "Kabupaten Jombang Rp11.333\n",
    "Kabupaten Mojokerto Rp11.250\n",
    "Kabupaten Blitar Rp11.000\n",
    "Kabupaten Sampang Rp11.000\n",
    "Kabupaten Situbondo Rp11.000\n",
    "Kabupaten Bondowoso Rp10.900\n",
    "Kabupaten Probolinggo Rp10.900\n",
    "Kota Blitar Rp10.900\n",
    "\"\"\"\n",
    "\n",
    "# Split the data into lines\n",
    "lines = data.strip().split('\\n')\n",
    "\n",
    "# Split each line into a city and a price, and add them to the dictionary\n",
    "city_price_dict = {line.rsplit(' ', 1)[0]: int(line.rsplit(' ', 1)[1].replace('Rp', '').replace('.', '')) for line in lines}\n",
    "\n",
    "print(city_price_dict)"
   ]
  },
  {
   "cell_type": "markdown",
   "metadata": {},
   "source": [
    "## CSV Format"
   ]
  },
  {
   "cell_type": "code",
   "execution_count": 7,
   "metadata": {},
   "outputs": [],
   "source": [
    "class CommodityData:\n",
    "    def __init__(self, date, commodity, prices):\n",
    "        self.date = date\n",
    "        self.commodity = commodity\n",
    "        self.prices = prices\n",
    "\n",
    "    def to_csv(self, filename):\n",
    "        with open(filename, 'w', newline='') as file:\n",
    "            writer = csv.writer(file)\n",
    "            writer.writerow([\"no\", \"city\", \"year\", \"commodity\", \"price\"])\n",
    "            for i, (city, price) in enumerate(self.prices.items(), start=1):\n",
    "                writer.writerow([i, city, self.date, self.commodity, price])\n",
    "\n",
    "def main():\n",
    "    date = input(\"Enter date: \")\n",
    "    commodity = input(\"Enter commodity: \")\n",
    "\n",
    "    # prices = {\n",
    "    #     \"Kabupaten Pamekasan\": \"Rp12.900\",\n",
    "    #     \"Kota Malang\": \"Rp12.583\",\n",
    "    #     # Add the rest of your city-price pairs here\n",
    "    # }\n",
    "\n",
    "    data = CommodityData(date, commodity, city_price_dict)\n",
    "    data.to_csv(\"output.csv\")\n",
    "\n",
    "if __name__ == \"__main__\":\n",
    "    main()"
   ]
  },
  {
   "cell_type": "markdown",
   "metadata": {},
   "source": [
    "## EXCEL Format"
   ]
  },
  {
   "cell_type": "code",
   "execution_count": 19,
   "metadata": {},
   "outputs": [],
   "source": [
    "class CommodityData:\n",
    "    def __init__(self, date, commodity, prices):\n",
    "        self.date = date\n",
    "        self.commodity = commodity\n",
    "        self.prices = prices\n",
    "\n",
    "    def to_excel(self):\n",
    "        data = []\n",
    "        for i, (city, price) in enumerate(self.prices.items(), start=1):\n",
    "            data.append([i, city, self.date, self.commodity, price])\n",
    "        df = pd.DataFrame(data, columns=[\"no\", \"city\", \"year\", \"commodity\", \"price\"])\n",
    "        filename = f\"{self.commodity}_{self.date}.xlsx\"\n",
    "        df.to_excel(filename, index=False)\n",
    "\n",
    "def main():\n",
    "    date = input(\"Enter date: \")\n",
    "    commodity = input(\"Enter commodity: \")\n",
    "\n",
    "    data = CommodityData(date, commodity, city_price_dict)\n",
    "    data.to_excel()  # Remove \"output.xlsx\" from this line\n",
    "\n",
    "if __name__ == \"__main__\":\n",
    "    main()"
   ]
  },
  {
   "cell_type": "code",
   "execution_count": null,
   "metadata": {},
   "outputs": [],
   "source": []
  }
 ],
 "metadata": {
  "kernelspec": {
   "display_name": "venv",
   "language": "python",
   "name": "python3"
  },
  "language_info": {
   "codemirror_mode": {
    "name": "ipython",
    "version": 3
   },
   "file_extension": ".py",
   "mimetype": "text/x-python",
   "name": "python",
   "nbconvert_exporter": "python",
   "pygments_lexer": "ipython3",
   "version": "3.11.4"
  }
 },
 "nbformat": 4,
 "nbformat_minor": 2
}
