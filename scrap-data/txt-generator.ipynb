{
 "cells": [
  {
   "cell_type": "code",
   "execution_count": 2,
   "metadata": {},
   "outputs": [],
   "source": [
    "import datetime\n",
    "import os"
   ]
  },
  {
   "cell_type": "code",
   "execution_count": 3,
   "metadata": {},
   "outputs": [],
   "source": [
    "def generate_txt(commodity, start_date, end_date):\n",
    "    # Create a date object for the start and end dates\n",
    "    start_date = datetime.datetime.strptime(start_date, \"%Y-%m-%d\").date()\n",
    "    end_date = datetime.datetime.strptime(end_date, \"%Y-%m-%d\").date()\n",
    "\n",
    "    # Generate a text file for each date in the range\n",
    "    current_date = start_date\n",
    "    while current_date <= end_date:\n",
    "        # Format the date as YYYY-MM-DD\n",
    "        date_str = current_date.strftime(\"%Y-%m-%d\")\n",
    "        # Create the directory path\n",
    "        dir_path = f\"{commodity}/{current_date.year}/{current_date.month}\"\n",
    "        os.makedirs(dir_path, exist_ok=True)\n",
    "        # Create the filename\n",
    "        filename = f\"{dir_path}/{commodity}_{date_str}.txt\"\n",
    "        # Create the file (empty for now)\n",
    "        with open(filename, \"w\") as file:\n",
    "            pass\n",
    "        # Move to the next date\n",
    "        current_date += datetime.timedelta(days=1)\n",
    "\n",
    "# Example usage:\n",
    "generate_txt(\"kacang_tanah\", \"2024-01-01\", \"2024-05-31\")"
   ]
  },
  {
   "cell_type": "code",
   "execution_count": null,
   "metadata": {},
   "outputs": [],
   "source": []
  }
 ],
 "metadata": {
  "kernelspec": {
   "display_name": "venv",
   "language": "python",
   "name": "python3"
  },
  "language_info": {
   "codemirror_mode": {
    "name": "ipython",
    "version": 3
   },
   "file_extension": ".py",
   "mimetype": "text/x-python",
   "name": "python",
   "nbconvert_exporter": "python",
   "pygments_lexer": "ipython3",
   "version": "3.11.4"
  }
 },
 "nbformat": 4,
 "nbformat_minor": 2
}
