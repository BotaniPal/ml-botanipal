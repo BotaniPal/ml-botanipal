{
 "cells": [
  {
   "cell_type": "code",
   "execution_count": 1,
   "metadata": {},
   "outputs": [
    {
     "name": "stdout",
     "output_type": "stream",
     "text": [
      "Requirement already satisfied: pandas in c:\\users\\dprih\\onedrive\\dokumen\\its\\its semester 6\\capstone-bangkit-ml\\venv\\lib\\site-packages (2.2.2)\n",
      "Requirement already satisfied: numpy>=1.23.2 in c:\\users\\dprih\\onedrive\\dokumen\\its\\its semester 6\\capstone-bangkit-ml\\venv\\lib\\site-packages (from pandas) (1.26.4)\n",
      "Requirement already satisfied: python-dateutil>=2.8.2 in c:\\users\\dprih\\onedrive\\dokumen\\its\\its semester 6\\capstone-bangkit-ml\\venv\\lib\\site-packages (from pandas) (2.9.0.post0)\n",
      "Requirement already satisfied: pytz>=2020.1 in c:\\users\\dprih\\onedrive\\dokumen\\its\\its semester 6\\capstone-bangkit-ml\\venv\\lib\\site-packages (from pandas) (2024.1)\n",
      "Requirement already satisfied: tzdata>=2022.7 in c:\\users\\dprih\\onedrive\\dokumen\\its\\its semester 6\\capstone-bangkit-ml\\venv\\lib\\site-packages (from pandas) (2024.1)\n",
      "Requirement already satisfied: six>=1.5 in c:\\users\\dprih\\onedrive\\dokumen\\its\\its semester 6\\capstone-bangkit-ml\\venv\\lib\\site-packages (from python-dateutil>=2.8.2->pandas) (1.16.0)\n",
      "Note: you may need to restart the kernel to use updated packages.\n",
      "Requirement already satisfied: openpyxl in c:\\users\\dprih\\onedrive\\dokumen\\its\\its semester 6\\capstone-bangkit-ml\\venv\\lib\\site-packages (3.1.2)\n",
      "Requirement already satisfied: et-xmlfile in c:\\users\\dprih\\onedrive\\dokumen\\its\\its semester 6\\capstone-bangkit-ml\\venv\\lib\\site-packages (from openpyxl) (1.1.0)\n",
      "Note: you may need to restart the kernel to use updated packages.\n"
     ]
    }
   ],
   "source": [
    "%pip install pandas\n",
    "%pip install openpyxl"
   ]
  },
  {
   "cell_type": "code",
   "execution_count": 2,
   "metadata": {},
   "outputs": [],
   "source": [
    "import csv\n",
    "import pandas as pd\n",
    "import os\n"
   ]
  },
  {
   "cell_type": "code",
   "execution_count": 16,
   "metadata": {},
   "outputs": [
    {
     "name": "stdout",
     "output_type": "stream",
     "text": [
      "{'Kabupaten Pamekasan': 12900, 'Kota Malang': 12583, 'Kabupaten Lumajang': 12500, 'Kabupaten Sidoarjo': 12500, 'Kota Surabaya': 12450, 'Kabupaten Banyuwangi': 12300, 'Kabupaten Sumenep': 12250, 'Kabupaten Kediri': 12166, 'Kabupaten Nganjuk': 12166, 'Kota Madiun': 12166, 'Kabupaten Magetan': 12133, 'Kabupaten Malang': 12100, 'Kabupaten Ponorogo': 12075, 'Kabupaten Bojonegoro': 12000, 'Kabupaten Madiun': 12000, 'Kabupaten Pacitan': 12000, 'Kabupaten Tuban': 12000, 'Kota Pasuruan': 12000, 'Kabupaten Lamongan': 11937, 'Kabupaten Gresik': 11800, 'Kabupaten Jember': 11760, 'Kota Batu': 11750, 'Kota Kediri': 11700, 'Kabupaten Pasuruan': 11600, 'Kota Probolinggo': 11600, 'Kabupaten Ngawi': 11500, 'Kabupaten Trenggalek': 11500, 'Kota Mojokerto': 11500, 'Kabupaten Tulungagung': 11400, 'Kabupaten Bangkalan': 11333, 'Kabupaten Jombang': 11333, 'Kabupaten Mojokerto': 11250, 'Kabupaten Blitar': 11000, 'Kabupaten Sampang': 11000, 'Kabupaten Situbondo': 11000, 'Kabupaten Bondowoso': 10900, 'Kabupaten Probolinggo': 10900, 'Kota Blitar': 10900}\n"
     ]
    }
   ],
   "source": [
    "# data = \"\"\"\n",
    "# Kabupaten Pamekasan Rp12.900\n",
    "# Kota Malang Rp12.583\n",
    "# Kabupaten Lumajang Rp12.500\n",
    "# Kabupaten Sidoarjo Rp12.500\n",
    "# Kota Surabaya Rp12.450\n",
    "# Kabupaten Banyuwangi Rp12.300\n",
    "# Kabupaten Sumenep Rp12.250\n",
    "# Kabupaten Kediri Rp12.166\n",
    "# Kabupaten Nganjuk Rp12.166\n",
    "# Kota Madiun Rp12.166\n",
    "# Kabupaten Magetan Rp12.133\n",
    "# Kabupaten Malang Rp12.100\n",
    "# Kabupaten Ponorogo Rp12.075\n",
    "# Kabupaten Bojonegoro Rp12.000\n",
    "# Kabupaten Madiun Rp12.000\n",
    "# Kabupaten Pacitan Rp12.000\n",
    "# Kabupaten Tuban Rp12.000\n",
    "# Kota Pasuruan Rp12.000\n",
    "# Kabupaten Lamongan Rp11.937\n",
    "# Kabupaten Gresik Rp11.800\n",
    "# Kabupaten Jember Rp11.760\n",
    "# Kota Batu Rp11.750\n",
    "# Kota Kediri Rp11.700\n",
    "# Kabupaten Pasuruan Rp11.600\n",
    "# Kota Probolinggo Rp11.600\n",
    "# Kabupaten Ngawi Rp11.500\n",
    "# Kabupaten Trenggalek Rp11.500\n",
    "# Kota Mojokerto Rp11.500\n",
    "# Kabupaten Tulungagung Rp11.400\n",
    "# Kabupaten Bangkalan Rp11.333\n",
    "# Kabupaten Jombang Rp11.333\n",
    "# Kabupaten Mojokerto Rp11.250\n",
    "# Kabupaten Blitar Rp11.000\n",
    "# Kabupaten Sampang Rp11.000\n",
    "# Kabupaten Situbondo Rp11.000\n",
    "# Kabupaten Bondowoso Rp10.900\n",
    "# Kabupaten Probolinggo Rp10.900\n",
    "# Kota Blitar Rp10.900\n",
    "# \"\"\"\n",
    "\n",
    "\n",
    "\n",
    "# Split the data into lines\n",
    "lines = data.strip().split('\\n')\n",
    "\n",
    "# Split each line into a city and a price, and add them to the dictionary\n",
    "city_price_dict = {line.rsplit(' ', 1)[0]: int(line.rsplit(' ', 1)[1].replace('Rp', '').replace('.', '')) for line in lines}\n",
    "\n",
    "print(city_price_dict)"
   ]
  },
  {
   "cell_type": "markdown",
   "metadata": {},
   "source": [
    "## CSV Format"
   ]
  },
  {
   "cell_type": "code",
   "execution_count": 19,
   "metadata": {},
   "outputs": [],
   "source": [
    "# class CommodityData:\n",
    "#     def __init__(self, prices):\n",
    "#         self.prices = prices\n",
    "    \n",
    "#     if not os.path.exists(\"commodity-csv\"):\n",
    "#         os.makedirs(\"commodity-csv\")\n",
    "\n",
    "#     def to_csv(self, commodity, date):\n",
    "#         data = []\n",
    "#         for i, (city, price) in enumerate(self.prices.items(), start=1):\n",
    "#             data.append([i, city, date, commodity, price])\n",
    "#         df = pd.DataFrame(data, columns=[\"no\", \"city\", \"year\", \"commodity\", \"price\"])\n",
    "#         filename = f\"commodity-csv/{commodity}_{date}.csv\"\n",
    "#         df.to_csv(filename, index=False)\n",
    "\n",
    "# def main():\n",
    "#     # Read the data from all text files in a folder\n",
    "#     folder_path = \"beras\"  # Replace with the path to your folder\n",
    "#     for root, dirs, files in os.walk(folder_path):\n",
    "#         for filename in files:\n",
    "#             if filename.endswith(\".txt\"):\n",
    "#                 with open(os.path.join(root, filename), \"r\") as file:\n",
    "#                     lines = file.read().split('\\n')\n",
    "#                     # Skip this file if it's empty, only contains whitespace, or doesn't contain valid data\n",
    "#                     if not lines or all(line.isspace() or '\\t' not in line for line in lines):\n",
    "#                         continue\n",
    "#                     # Split each line into a city and a price, and add them to the dictionary\n",
    "#                     city_price_dict = {line.rsplit('\\t', 1)[0]: None if \"Tidak ada\" in line else int(line.rsplit('\\t', 1)[1].replace('Rp', '').replace('.', '')) for line in lines if '\\t' in line}\n",
    "#                     commodity, date = filename[:-4].split('_')\n",
    "#                     data = CommodityData(city_price_dict)\n",
    "#                     # Check if the CSV file already exists\n",
    "#                     csv_filename = f\"commodity-csv/{commodity}_{date}.csv\"\n",
    "#                     if not os.path.exists(csv_filename):\n",
    "#                         # If the file doesn't exist, create it\n",
    "#                         data.to_csv(commodity, date)\n",
    "\n",
    "# if __name__ == \"__main__\":\n",
    "#     main()"
   ]
  },
  {
   "cell_type": "markdown",
   "metadata": {},
   "source": [
    "## EXCEL Format"
   ]
  },
  {
   "cell_type": "code",
   "execution_count": 3,
   "metadata": {},
   "outputs": [],
   "source": [
    "class CommodityData:\n",
    "    def __init__(self, prices):\n",
    "        self.prices = prices\n",
    "    \n",
    "    if not os.path.exists(\"commodity-excel\"):\n",
    "        os.makedirs(\"commodity-excel\")\n",
    "\n",
    "    def to_excel(self, commodity, date):\n",
    "        data = []\n",
    "        for i, (city, price) in enumerate(self.prices.items(), start=1):\n",
    "            data.append([i, city, date, commodity, price])\n",
    "        df = pd.DataFrame(data, columns=[\"no\", \"city\", \"year\", \"commodity\", \"price\"])\n",
    "        filename = f\"commodity-excel/{commodity}_{date}.xlsx\"\n",
    "        df.to_excel(filename, index=False)\n",
    "\n",
    "def main():\n",
    "    # Read the data from all text files in a folder\n",
    "    folder_path = \"beras\"  # Replace with the path to your folder\n",
    "    for root, dirs, files in os.walk(folder_path):\n",
    "        for filename in files:\n",
    "            if filename.endswith(\".txt\"):\n",
    "                with open(os.path.join(root, filename), \"r\") as file:\n",
    "                    lines = file.read().split('\\n')\n",
    "                    # Skip this file if it's empty, only contains whitespace, or doesn't contain valid data\n",
    "                    if not lines or all(line.isspace() or '\\t' not in line for line in lines):\n",
    "                        continue\n",
    "                    # Split each line into a city and a price, and add them to the dictionary\n",
    "                    city_price_dict = {line.rsplit('\\t', 1)[0]: None if \"Tidak ada\" in line else int(line.rsplit('\\t', 1)[1].replace('Rp', '').replace('.', '')) for line in lines if '\\t' in line}\n",
    "                    commodity, date = filename[:-4].split('_')\n",
    "                    data = CommodityData(city_price_dict)\n",
    "                    # Check if the Excel file already exists\n",
    "                    excel_filename = f\"{commodity}_{date}.xlsx\"\n",
    "                    if not os.path.exists(excel_filename):\n",
    "                        # If the file doesn't exist, create it\n",
    "                        data.to_excel(commodity, date)\n",
    "\n",
    "if __name__ == \"__main__\":\n",
    "    main()"
   ]
  },
  {
   "cell_type": "code",
   "execution_count": 4,
   "metadata": {},
   "outputs": [],
   "source": [
    "def excel_to_csv(excel_folder, csv_folder):\n",
    "    # Ensure the output folder exists\n",
    "    if not os.path.exists(csv_folder):\n",
    "        os.makedirs(csv_folder)\n",
    "\n",
    "    # Iterate over all Excel files in the input folder\n",
    "    for filename in os.listdir(excel_folder):\n",
    "        if filename.endswith(\".xlsx\"):\n",
    "            # Read the Excel file\n",
    "            df = pd.read_excel(os.path.join(excel_folder, filename))\n",
    "            # Write to a CSV file\n",
    "            csv_filename = os.path.splitext(filename)[0] + \".csv\"\n",
    "            df.to_csv(os.path.join(csv_folder, csv_filename), index=False)\n",
    "\n",
    "excel_to_csv(\"commodity-excel\", \"commodity-csv\")"
   ]
  },
  {
   "cell_type": "code",
   "execution_count": null,
   "metadata": {},
   "outputs": [],
   "source": []
  }
 ],
 "metadata": {
  "kernelspec": {
   "display_name": "venv",
   "language": "python",
   "name": "python3"
  },
  "language_info": {
   "codemirror_mode": {
    "name": "ipython",
    "version": 3
   },
   "file_extension": ".py",
   "mimetype": "text/x-python",
   "name": "python",
   "nbconvert_exporter": "python",
   "pygments_lexer": "ipython3",
   "version": "3.11.4"
  }
 },
 "nbformat": 4,
 "nbformat_minor": 2
}
